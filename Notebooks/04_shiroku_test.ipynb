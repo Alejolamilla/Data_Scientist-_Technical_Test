{
 "cells": [
  {
   "cell_type": "code",
   "execution_count": 273,
   "metadata": {},
   "outputs": [],
   "source": [
    "import pandas as pd\n",
    "import numpy as np\n",
    "import random\n",
    "import shimoku_api_python as shimoku\n",
    "\n",
    "from sklearn.model_selection import train_test_split\n",
    "from sklearn.ensemble import RandomForestClassifier\n",
    "from sklearn.model_selection import cross_val_score\n",
    "from sklearn.feature_extraction import DictVectorizer"
   ]
  },
  {
   "cell_type": "code",
   "execution_count": 274,
   "metadata": {},
   "outputs": [],
   "source": [
    "merge_df = pd.read_csv(\"../Data/Processed/merged_raw.csv\")\n",
    "raw_leads = pd.read_csv(\"../Data/Raw/leads.csv\")\n",
    "raw_offers = pd.read_csv(\"../Data/Raw/offers.csv\")"
   ]
  },
  {
   "cell_type": "code",
   "execution_count": 275,
   "metadata": {},
   "outputs": [
    {
     "name": "stdout",
     "output_type": "stream",
     "text": [
      "2023-12-14 22:47 | INFO | Starting execution: \u001b[4mset_workspace\u001b[0m\n",
      "2023-12-14 22:47 | INFO | Finished execution: \u001b[4mset_workspace\u001b[0m, elapsed time: 4783.75 ms\n",
      "2023-12-14 22:47 | INFO | Starting execution: \u001b[4mset_menu_path\u001b[0m\n",
      "2023-12-14 22:47 | INFO | Retrieved menu path catalog with id 228ba832-394c-47e4-9a75-93431aea96c2\n",
      "2023-12-14 22:47 | INFO | Retrieved board Default Name with id bfebf856-afc6-4e02-bac1-c09e615f127c\n",
      "2023-12-14 22:47 | INFO | Finished execution: \u001b[4mset_menu_path\u001b[0m, elapsed time: 7812.41 ms\n"
     ]
    }
   ],
   "source": [
    "api_key: str = \"90336deb-e537-40a5-98e8-a91eb731a823\"\n",
    "universe_id: str = \"c2edae80-3e21-4f15-8c51-c394b34475cf\"\n",
    "workspace_id: str = \"e96f1077-ae84-4068-9333-457b5d65ec37\"\n",
    "\n",
    "\n",
    "s = shimoku.Client(\n",
    "    access_token=api_key,\n",
    "    universe_id=universe_id,\n",
    "    async_execution=True,\n",
    "    verbosity='INFO',\n",
    ")\n",
    "s.set_workspace(workspace_id)\n",
    "s.set_menu_path(\"catalog\", \"Test\")"
   ]
  },
  {
   "cell_type": "code",
   "execution_count": 276,
   "metadata": {},
   "outputs": [
    {
     "name": "stdout",
     "output_type": "stream",
     "text": [
      "2023-12-14 22:47 | INFO | Starting execution: \u001b[4mclear_menu_path\u001b[0m\n",
      "2023-12-14 22:47 | INFO | Deleted 6 components\n",
      "2023-12-14 22:47 | INFO | Deleted 3 unused datasets from the menu path catalog\n",
      "2023-12-14 22:47 | INFO | Finished execution: \u001b[4mclear_menu_path\u001b[0m, elapsed time: 14944.58 ms\n"
     ]
    }
   ],
   "source": [
    "s.plt.clear_menu_path()"
   ]
  },
  {
   "cell_type": "markdown",
   "metadata": {},
   "source": [
    "## Dataframes to Plot"
   ]
  },
  {
   "cell_type": "code",
   "execution_count": 277,
   "metadata": {},
   "outputs": [],
   "source": [
    "data_list = [{\"Cols\": list(raw_offers.isna().sum().index), \"Null Values\": list(raw_offers.isna().sum().values), \"Non-null Values\": list(raw_offers.shape[0] - value for value in raw_offers.isna().sum().values)}]\n",
    "data = pd.concat([pd.DataFrame(d) for d in data_list], ignore_index=True)"
   ]
  },
  {
   "cell_type": "code",
   "execution_count": 278,
   "metadata": {},
   "outputs": [],
   "source": [
    "data2_list = [{\"Cols\": list(raw_leads.isna().sum().index), \"Null Values\": list(raw_leads.isna().sum().values), \"Non-null Values\": list(raw_leads.shape[0] - value for value in raw_leads.isna().sum().values)}]\n",
    "data2 = pd.concat([pd.DataFrame(d) for d in data2_list], ignore_index=True)"
   ]
  },
  {
   "cell_type": "code",
   "execution_count": 290,
   "metadata": {},
   "outputs": [],
   "source": [
    "merge_list = [{\"Cols\": list(merge_df.isna().sum().index), \"Null Values\": list(merge_df.isna().sum().values), \"Non-null Values\": list(merge_df.shape[0] - value for value in merge_df.isna().sum().values)}]\n",
    "merge_data = pd.concat([pd.DataFrame(d) for d in merge_list], ignore_index=True)"
   ]
  },
  {
   "cell_type": "markdown",
   "metadata": {},
   "source": [
    "## Header"
   ]
  },
  {
   "cell_type": "code",
   "execution_count": 291,
   "metadata": {},
   "outputs": [
    {
     "name": "stdout",
     "output_type": "stream",
     "text": [
      "2023-12-14 22:49 | INFO | html added to the task pool\n"
     ]
    }
   ],
   "source": [
    "prediction_header = (\n",
    "    \"<head>\"\n",
    "    \"<style>\"  # Styles title\n",
    "    \".component-title{height:auto; width:100%; \"\n",
    "    \"border-radius:16px; padding:16px;\"\n",
    "    \"display:flex; align-items:center;\"\n",
    "    \"background-color:var(--complementary-violet); color:var(--color-white);}\"\n",
    "    \"</style>\"\n",
    "    # Start icons style\n",
    "    \"<style>.big-icon-banner\"\n",
    "    \"{width:48px; height: 48px; display: flex;\"\n",
    "    \"margin-right: 16px;\"\n",
    "    \"justify-content: center;\"\n",
    "    \"align-items: center;\"\n",
    "    \"background-size: contain;\"\n",
    "    \"background-position: center;\"\n",
    "    \"background-repeat: no-repeat;\"\n",
    "    \"background-image: url('https://uploads-ssl.webflow.com/619f9fe98661d321dc3beec7/63594ccf3f311a98d72faff7_suite-customer-b.svg');}\"\n",
    "    \"</style>\"\n",
    "    # End icons style\n",
    "    \"<style>.base-white{color:var(--color-white);}</style>\"\n",
    "    \"</head>\"  # Styles subtitle\n",
    "    \"<div class='component-title'>\"\n",
    "    \"<div class='big-icon-banner'></div>\"\n",
    "    \"<div class='text-block'>\"\n",
    "    \"<h1>Thinking Process</h1>\"\n",
    "    \"<p class='base-white'>\"\n",
    "    \"And some considerations on the data and the problem by Alejandro Tovar</p>\"\n",
    "    \"</div>\"\n",
    "    \"</div>\"\n",
    ")\n",
    "s.plt.html(html=prediction_header, order=0)"
   ]
  },
  {
   "cell_type": "markdown",
   "metadata": {},
   "source": [
    "## Mising Values"
   ]
  },
  {
   "cell_type": "code",
   "execution_count": 308,
   "metadata": {},
   "outputs": [
    {
     "name": "stdout",
     "output_type": "stream",
     "text": [
      "2023-12-14 22:53 | INFO | html added to the task pool\n"
     ]
    }
   ],
   "source": [
    "distribution_header_html = (                                                                              \n",
    "    '<div style=\"width:100%; height:90px; \"><h3>Amount of Null Data for Each Dataset</h3>' \n",
    "    '''<p>Since there are some columns that have a high ratio of null data, I removed some columns (which didnt have an ID since those rows would be imposible to match between datasets),\n",
    "      and filled the values for other colums, with a categorical variable or a numerical one depending of each variable</p></div>'''\n",
    ")                                                                                                         \n",
    "s.plt.html(html=distribution_header_html, order=1)  "
   ]
  },
  {
   "cell_type": "code",
   "execution_count": 309,
   "metadata": {},
   "outputs": [
    {
     "name": "stdout",
     "output_type": "stream",
     "text": [
      "2023-12-14 22:53 | INFO | stacked_horizontal_bar_chart added to the task pool\n"
     ]
    }
   ],
   "source": [
    "s.plt.stacked_horizontal_bar(\n",
    "    data=data, x=\"Cols\",\n",
    "    title='Number of Null Values for Offers',\n",
    "    order=2,\n",
    "    cols_size=6,\n",
    "    rows_size=3,\n",
    "    option_modifications={\"color\": [\"var(--color-error)\", \"var(--color-success-light)\"]}\n",
    "    )"
   ]
  },
  {
   "cell_type": "code",
   "execution_count": 310,
   "metadata": {},
   "outputs": [
    {
     "name": "stdout",
     "output_type": "stream",
     "text": [
      "2023-12-14 22:53 | INFO | stacked_horizontal_bar_chart added to the task pool\n"
     ]
    }
   ],
   "source": [
    "s.plt.stacked_horizontal_bar(\n",
    "    data=data2, x=\"Cols\",\n",
    "    title='Number of Null Values for Leads',\n",
    "    order=3,\n",
    "    cols_size=6,\n",
    "    rows_size=3,\n",
    "    option_modifications={\"color\": [\"var(--color-error)\", \"var(--color-success-light)\"]}\n",
    "    )"
   ]
  },
  {
   "cell_type": "code",
   "execution_count": 311,
   "metadata": {},
   "outputs": [
    {
     "name": "stdout",
     "output_type": "stream",
     "text": [
      "2023-12-14 22:53 | INFO | stacked_horizontal_bar_chart added to the task pool\n"
     ]
    }
   ],
   "source": [
    "s.plt.stacked_horizontal_bar(\n",
    "    data=merge_data, x=\"Cols\",\n",
    "    title='Number of Null values for the Merged Dataframe',\n",
    "    order=4,\n",
    "    cols_size=12,\n",
    "    option_modifications={\"color\": [\"var(--color-error)\", \"var(--color-success-light)\"]}\n",
    "    )"
   ]
  },
  {
   "cell_type": "markdown",
   "metadata": {},
   "source": [
    "## Unbalanced Data"
   ]
  },
  {
   "cell_type": "code",
   "execution_count": 312,
   "metadata": {},
   "outputs": [
    {
     "name": "stdout",
     "output_type": "stream",
     "text": [
      "2023-12-14 22:53 | INFO | html added to the task pool\n"
     ]
    }
   ],
   "source": [
    "distribution_header_html = (                                                                              \n",
    "    '<div style=\"width:100%; height:90px; \"><h3>Data Balance</h3>' \n",
    "    '''<p>The data is unbalanced for some specific features, Knowing this, I will be able to use a technique later to handle with this like resampling or SMOTE</p></div>'''\n",
    ")                                                                                                         \n",
    "s.plt.html(html=distribution_header_html, order=5)  "
   ]
  },
  {
   "cell_type": "code",
   "execution_count": 313,
   "metadata": {},
   "outputs": [],
   "source": [
    "Use_case_data = merge_df[\"Use Case_y\"].value_counts()\n",
    "Use_case_df = pd.DataFrame()\n",
    "Use_case_df[\"label\"] = Use_case_data.index \n",
    "Use_case_df[\"value\"] = Use_case_data.values"
   ]
  },
  {
   "cell_type": "code",
   "execution_count": 314,
   "metadata": {},
   "outputs": [
    {
     "name": "stdout",
     "output_type": "stream",
     "text": [
      "2023-12-14 22:53 | INFO | pie_chart added to the task pool\n"
     ]
    }
   ],
   "source": [
    "s.plt.pie(\n",
    "    data=Use_case_df, \n",
    "    names=\"label\", \n",
    "    values=\"value\",\n",
    "    order=6, \n",
    "    rows_size=2, \n",
    "    cols_size=5,\n",
    ")"
   ]
  },
  {
   "cell_type": "code",
   "execution_count": 315,
   "metadata": {},
   "outputs": [
    {
     "name": "stdout",
     "output_type": "stream",
     "text": [
      "2023-12-14 22:53 | INFO | pie_chart added to the task pool\n"
     ]
    }
   ],
   "source": [
    "s.plt.pie(\n",
    "    data=Use_case_df, \n",
    "    names=\"label\", \n",
    "    values=\"value\",\n",
    "    order=7,\n",
    "    rows_size=2, \n",
    "    cols_size=5,\n",
    ")"
   ]
  },
  {
   "cell_type": "code",
   "execution_count": 316,
   "metadata": {},
   "outputs": [
    {
     "name": "stdout",
     "output_type": "stream",
     "text": [
      "2023-12-14 22:53 | INFO | Executing task pool\n",
      "2023-12-14 22:53 | INFO | Starting execution: \u001b[4mhtml\u001b[0m\n",
      "2023-12-14 22:53 | INFO | No changes needed for HTML at Test_1\n",
      "2023-12-14 22:53 | INFO | Finished execution: \u001b[4mhtml\u001b[0m, elapsed time: 1.58 ms\n",
      "2023-12-14 22:53 | INFO | Starting execution: \u001b[4mstacked_horizontal_bar_chart\u001b[0m\n",
      "2023-12-14 22:53 | INFO | Starting execution: \u001b[4mstacked_horizontal_bar_chart\u001b[0m\n",
      "2023-12-14 22:53 | INFO | Starting execution: \u001b[4mstacked_horizontal_bar_chart\u001b[0m\n",
      "2023-12-14 22:53 | INFO | Starting execution: \u001b[4mhtml\u001b[0m\n",
      "2023-12-14 22:53 | INFO | No changes needed for HTML at Test_5\n",
      "2023-12-14 22:53 | INFO | Finished execution: \u001b[4mhtml\u001b[0m, elapsed time: 2.18 ms\n",
      "2023-12-14 22:53 | INFO | Starting execution: \u001b[4mpie_chart\u001b[0m\n",
      "2023-12-14 22:53 | INFO | Starting execution: \u001b[4mpie_chart\u001b[0m\n",
      "2023-12-14 22:53 | INFO | Created EChart with id 231e8419-b955-44f9-84fb-c803378a5cf3\n",
      "2023-12-14 22:53 | INFO | Deleted data set with name 82b738ca-a2bc-4cd2-a3c7-11cd77420869\n",
      "2023-12-14 22:53 | INFO | Deleted data set with name 894f7262-805f-4167-b5c7-1a4c232d770b\n",
      "2023-12-14 22:53 | INFO | Created data set with id 6eb7c06f-f958-4570-9acc-5ca29fc13b42 and name 231e8419-b955-44f9-84fb-c803378a5cf3\n",
      "2023-12-14 22:53 | INFO | Deleted data set with name e89eb191-e5d0-402b-8d17-3d6be857bd08\n",
      "2023-12-14 22:53 | INFO | Deleted data set with name ce3f3864-2e20-4ccf-84cf-1b3241860364\n",
      "2023-12-14 22:53 | INFO | Deleted 0 component data set links from component at Test_7\n",
      "2023-12-14 22:53 | INFO | Created data set with id 924b33a2-867c-46a7-973a-8c4cea121bcf and name e89eb191-e5d0-402b-8d17-3d6be857bd08\n",
      "2023-12-14 22:53 | INFO | Deleted 0 component data set links from component at Test_6\n",
      "2023-12-14 22:53 | INFO | Created data set with id c0995899-e5af-40b2-b74f-685ba26f5f71 and name 82b738ca-a2bc-4cd2-a3c7-11cd77420869\n",
      "2023-12-14 22:53 | INFO | Deleted 0 component data set links from component at Test_4\n",
      "2023-12-14 22:53 | INFO | Created data set with id 9946dacc-2b4f-4a5a-a5df-1e576845f0da and name 894f7262-805f-4167-b5c7-1a4c232d770b\n",
      "2023-12-14 22:53 | INFO | Deleted 0 component data set links from component at Test_3\n",
      "2023-12-14 22:53 | INFO | Created data set with id 47dd0e7f-3e01-4163-856d-29511e00dde7 and name ce3f3864-2e20-4ccf-84cf-1b3241860364\n",
      "2023-12-14 22:53 | INFO | Deleted 0 component data set links from component at Test_2\n",
      "2023-12-14 22:53 | INFO | Created 1 component data set links for component Test_7\n",
      "2023-12-14 22:53 | INFO | Created 1 component data set links for component Test_6\n",
      "2023-12-14 22:53 | INFO | Created 3 component data set links for component Test_3\n",
      "2023-12-14 22:53 | INFO | Created 3 component data set links for component Test_4\n",
      "2023-12-14 22:53 | INFO | Created 3 component data set links for component Test_2\n",
      "2023-12-14 22:53 | INFO | Updated EChart at Test_6\n",
      "2023-12-14 22:53 | INFO | Finished execution: \u001b[4mpie_chart\u001b[0m, elapsed time: 8503.23 ms\n",
      "2023-12-14 22:53 | INFO | Updated EChart at Test_3\n",
      "2023-12-14 22:53 | INFO | Finished execution: \u001b[4mstacked_horizontal_bar_chart\u001b[0m, elapsed time: 8554.25 ms\n",
      "2023-12-14 22:53 | INFO | Updated EChart at Test_7\n",
      "2023-12-14 22:53 | INFO | Finished execution: \u001b[4mpie_chart\u001b[0m, elapsed time: 8579.91 ms\n",
      "2023-12-14 22:53 | INFO | Updated EChart at Test_4\n",
      "2023-12-14 22:53 | INFO | Finished execution: \u001b[4mstacked_horizontal_bar_chart\u001b[0m, elapsed time: 8934.85 ms\n",
      "2023-12-14 22:53 | INFO | Updated EChart at Test_2\n",
      "2023-12-14 22:53 | INFO | Finished execution: \u001b[4mstacked_horizontal_bar_chart\u001b[0m, elapsed time: 9547.12 ms\n"
     ]
    }
   ],
   "source": [
    "s.run()"
   ]
  }
 ],
 "metadata": {
  "kernelspec": {
   "display_name": "myenv",
   "language": "python",
   "name": "python3"
  },
  "language_info": {
   "codemirror_mode": {
    "name": "ipython",
    "version": 3
   },
   "file_extension": ".py",
   "mimetype": "text/x-python",
   "name": "python",
   "nbconvert_exporter": "python",
   "pygments_lexer": "ipython3",
   "version": "3.11.5"
  }
 },
 "nbformat": 4,
 "nbformat_minor": 2
}

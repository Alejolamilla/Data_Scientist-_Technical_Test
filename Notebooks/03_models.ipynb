{
 "cells": [
  {
   "cell_type": "code",
   "execution_count": 1,
   "metadata": {},
   "outputs": [],
   "source": [
    "import pandas as pd\n",
    "from sklearn.model_selection import train_test_split\n",
    "from sklearn.ensemble import RandomForestClassifier\n",
    "from sklearn.metrics import accuracy_score"
   ]
  },
  {
   "cell_type": "code",
   "execution_count": 2,
   "metadata": {},
   "outputs": [],
   "source": [
    "offers_df = pd.read_csv(\"../Data/Processed/offers_processed.csv\")\n",
    "leads_df = pd.read_csv(\"../Data/Processed/leads_processed.csv\")\n",
    "merge_df = pd.read_csv(\"../Data/Processed/merge_processed.csv\")"
   ]
  },
  {
   "cell_type": "code",
   "execution_count": 3,
   "metadata": {},
   "outputs": [
    {
     "data": {
      "text/plain": [
       "Id                                 object\n",
       "Acquisition Campaign_0              int64\n",
       "Acquisition Campaign_1              int64\n",
       "Acquisition Campaign_2              int64\n",
       "Acquisition Campaign_3              int64\n",
       "Acquisition Campaign_4              int64\n",
       "Acquisition Campaign_5              int64\n",
       "Converted                            bool\n",
       "City_0                              int64\n",
       "City_1                              int64\n",
       "City_2                              int64\n",
       "City_3                              int64\n",
       "City_4                              int64\n",
       "Use Case_Concerts and festivals      bool\n",
       "Use Case_Corporate Events            bool\n",
       "Use Case_Educational Seminars        bool\n",
       "Use Case_Not_Specified               bool\n",
       "Use Case_Sports Events               bool\n",
       "Use Case_Wedding Planning            bool\n",
       "Source_Inbound                       bool\n",
       "Source_Not_Specified                 bool\n",
       "Source_Outbound                      bool\n",
       "month                               int64\n",
       "day                                 int64\n",
       "dtype: object"
      ]
     },
     "execution_count": 3,
     "metadata": {},
     "output_type": "execute_result"
    }
   ],
   "source": [
    "leads_df.dtypes"
   ]
  },
  {
   "cell_type": "markdown",
   "metadata": {},
   "source": [
    "# Dealing With Leads Dataset"
   ]
  },
  {
   "cell_type": "code",
   "execution_count": 4,
   "metadata": {},
   "outputs": [],
   "source": [
    "# Creating X and y variables\n",
    "X = leads_df.drop([\"Id\",\"Converted\"], axis=1)\n",
    "y = leads_df[\"Converted\"]\n",
    "\n",
    "# Creating training and test datasets\n",
    "X_train, X_test, y_train, y_test = train_test_split(X, y, test_size=0.2, random_state=42)"
   ]
  },
  {
   "cell_type": "code",
   "execution_count": 5,
   "metadata": {},
   "outputs": [
    {
     "name": "stdout",
     "output_type": "stream",
     "text": [
      "Accuracy: 0.8932347924957362\n"
     ]
    }
   ],
   "source": [
    "# Creating and training a Random Forest Classifier\n",
    "clf = RandomForestClassifier(n_estimators=100)\n",
    "clf.fit(X_train, y_train)\n",
    "\n",
    "feature_importances = clf.feature_importances_\n",
    "\n",
    "# Predict the response for the test dataset\n",
    "y_pred = clf.predict(X_test)\n",
    "\n",
    "\n",
    "# Model Accuracy: how often is the classifier correct?\n",
    "print(\"Accuracy:\", accuracy_score(y_test, y_pred))"
   ]
  },
  {
   "cell_type": "code",
   "execution_count": 6,
   "metadata": {},
   "outputs": [
    {
     "name": "stdout",
     "output_type": "stream",
     "text": [
      "              precision    recall  f1-score   support\n",
      "\n",
      "       False       0.93      0.85      0.89      7995\n",
      "        True       0.20      0.38      0.26       800\n",
      "\n",
      "    accuracy                           0.80      8795\n",
      "   macro avg       0.57      0.61      0.57      8795\n",
      "weighted avg       0.87      0.80      0.83      8795\n",
      "\n"
     ]
    }
   ],
   "source": [
    "from imblearn.over_sampling import SMOTE\n",
    "from sklearn.metrics import classification_report\n",
    "\n",
    "# Apply SMOTE\n",
    "sm = SMOTE(random_state=42)\n",
    "X_train_res, y_train_res = sm.fit_resample(X_train, y_train)\n",
    "clf.fit(X_train_res, y_train_res)\n",
    "\n",
    "# Predict the response for the test dataset\n",
    "y_pred = clf.predict(X_test)\n",
    "\n",
    "# Print classification report\n",
    "print(classification_report(y_test, y_pred))\n"
   ]
  },
  {
   "cell_type": "code",
   "execution_count": 7,
   "metadata": {},
   "outputs": [
    {
     "name": "stdout",
     "output_type": "stream",
     "text": [
      "Accuracy: 0.8917566799317794\n",
      "              precision    recall  f1-score   support\n",
      "\n",
      "       False       0.92      0.96      0.94      7995\n",
      "        True       0.31      0.16      0.21       800\n",
      "\n",
      "    accuracy                           0.89      8795\n",
      "   macro avg       0.62      0.56      0.58      8795\n",
      "weighted avg       0.86      0.89      0.88      8795\n",
      "\n"
     ]
    }
   ],
   "source": [
    "# Creating and training a Random Forest Classifier\n",
    "clf = RandomForestClassifier(n_estimators=100)\n",
    "clf.fit(X_train, y_train)\n",
    "\n",
    "feature_importances = clf.feature_importances_\n",
    "\n",
    "# Predict the response for the test dataset\n",
    "y_pred = clf.predict(X_test)\n",
    "\n",
    "# Model Accuracy: how often is the classifier correct?\n",
    "print(\"Accuracy:\", accuracy_score(y_test, y_pred))\n",
    "\n",
    "# Predict the response for the test dataset\n",
    "y_pred = clf.predict(X_test)\n",
    "\n",
    "# Print classification report\n",
    "print(classification_report(y_test, y_pred))"
   ]
  },
  {
   "cell_type": "code",
   "execution_count": 8,
   "metadata": {},
   "outputs": [
    {
     "name": "stdout",
     "output_type": "stream",
     "text": [
      "Cross-validation scores:  [0.90255827 0.90938033 0.90948374 0.90118262 0.90902888]\n",
      "Average cross-validation score:  0.9063267696474533\n"
     ]
    }
   ],
   "source": [
    "from sklearn.linear_model import LogisticRegression\n",
    "from sklearn.model_selection import cross_val_score\n",
    "\n",
    "# Create a Logistic Regression model\n",
    "clf = LogisticRegression()\n",
    "clf = LogisticRegression(max_iter=1000)\n",
    "\n",
    "# Perform 5-fold cross validation\n",
    "scores = cross_val_score(clf, X, y, cv=5)\n",
    "\n",
    "# Print cross validation scores\n",
    "print(\"Cross-validation scores: \", scores)\n",
    "\n",
    "# Print the average of the cross-validation scores\n",
    "print(\"Average cross-validation score: \", scores.mean())\n"
   ]
  },
  {
   "cell_type": "code",
   "execution_count": 9,
   "metadata": {},
   "outputs": [
    {
     "name": "stdout",
     "output_type": "stream",
     "text": [
      "Cross-validation scores:  [0.86185333 0.85491757 0.78792358 0.73925404 0.90641346]\n",
      "Average cross-validation score:  0.8300723954766305\n"
     ]
    }
   ],
   "source": [
    "# Create a Logistic Regression model\n",
    "clf = RandomForestClassifier(n_estimators=100)\n",
    "\n",
    "# Perform 5-fold cross validation\n",
    "scores = cross_val_score(clf, X, y, cv=5)\n",
    "\n",
    "# Print cross validation scores\n",
    "print(\"Cross-validation scores: \", scores)\n",
    "\n",
    "# Print the average of the cross-validation scores\n",
    "print(\"Average cross-validation score: \", scores.mean())"
   ]
  },
  {
   "cell_type": "code",
   "execution_count": 10,
   "metadata": {},
   "outputs": [
    {
     "name": "stdout",
     "output_type": "stream",
     "text": [
      "              precision    recall  f1-score   support\n",
      "\n",
      "       False       0.94      0.74      0.83      7995\n",
      "        True       0.18      0.57      0.27       800\n",
      "\n",
      "    accuracy                           0.72      8795\n",
      "   macro avg       0.56      0.65      0.55      8795\n",
      "weighted avg       0.87      0.72      0.78      8795\n",
      "\n"
     ]
    }
   ],
   "source": [
    "# Create a Logistic Regression model\n",
    "clf = LogisticRegression()\n",
    "clf = LogisticRegression(max_iter=1000)\n",
    "\n",
    "# Apply SMOTE\n",
    "sm = SMOTE(random_state=42)\n",
    "X_train_res, y_train_res = sm.fit_resample(X_train, y_train)\n",
    "clf.fit(X_train_res, y_train_res)\n",
    "\n",
    "# Predict the response for the test dataset\n",
    "y_pred = clf.predict(X_test)\n",
    "\n",
    "# Print classification report\n",
    "print(classification_report(y_test, y_pred))"
   ]
  },
  {
   "cell_type": "code",
   "execution_count": null,
   "metadata": {},
   "outputs": [],
   "source": []
  },
  {
   "cell_type": "markdown",
   "metadata": {},
   "source": [
    "# Dealing With Offers Dataset"
   ]
  },
  {
   "cell_type": "code",
   "execution_count": 11,
   "metadata": {},
   "outputs": [
    {
     "data": {
      "text/plain": [
       "Index(['Id', 'Status', 'Price', 'Days', 'Discount',\n",
       "       'Use Case_Concerts and festivals', 'Use Case_Corporate Events',\n",
       "       'Use Case_Educational Seminars', 'Use Case_Not_Specified',\n",
       "       'Use Case_Sports Events', 'Use Case_Wedding Planning',\n",
       "       'Pain_Not_Specified', 'Pain_financial control', 'Pain_operations',\n",
       "       'Pain_quality of delivery', 'Pain_time saving'],\n",
       "      dtype='object')"
      ]
     },
     "execution_count": 11,
     "metadata": {},
     "output_type": "execute_result"
    }
   ],
   "source": [
    "offers_df.columns"
   ]
  },
  {
   "cell_type": "code",
   "execution_count": 12,
   "metadata": {},
   "outputs": [],
   "source": [
    "# Creating X and y variables\n",
    "X = offers_df.drop([\"Id\",\"Status\"], axis=1)\n",
    "y = offers_df[\"Status\"]\n",
    "\n",
    "# Creating training and test datasets\n",
    "X_train, X_test, y_train, y_test = train_test_split(X, y, test_size=0.2, random_state=42)"
   ]
  },
  {
   "cell_type": "code",
   "execution_count": 13,
   "metadata": {},
   "outputs": [
    {
     "name": "stdout",
     "output_type": "stream",
     "text": [
      "Accuracy: 0.7472306143001007\n"
     ]
    }
   ],
   "source": [
    "# Creating and training a Random Forest Classifier\n",
    "clf = RandomForestClassifier(n_estimators=100)\n",
    "clf.fit(X_train, y_train)\n",
    "\n",
    "feature_importances = clf.feature_importances_\n",
    "\n",
    "# Predict the response for the test dataset\n",
    "y_pred = clf.predict(X_test)\n",
    "\n",
    "\n",
    "# Model Accuracy: how often is the classifier correct?\n",
    "print(\"Accuracy:\", accuracy_score(y_test, y_pred))"
   ]
  },
  {
   "cell_type": "markdown",
   "metadata": {},
   "source": [
    "# Merged"
   ]
  },
  {
   "cell_type": "code",
   "execution_count": 22,
   "metadata": {},
   "outputs": [],
   "source": [
    "merge_df = merge_df[merge_df['Status'].isin(['Closed Lost', 'Closed Won'])]\n",
    "merge_df.to_csv(\"../Data/Processed/merge_processed.csv\")"
   ]
  },
  {
   "cell_type": "code",
   "execution_count": 20,
   "metadata": {},
   "outputs": [],
   "source": [
    "# Creating X and y variables\n",
    "X = merge_df.drop([\"Id\",\"Status\"], axis=1)\n",
    "y = merge_df[\"Status\"]\n",
    "\n",
    "# Creating training and test datasets\n",
    "X_train, X_test, y_train, y_test = train_test_split(X, y, test_size=0.2, random_state=42)"
   ]
  },
  {
   "cell_type": "code",
   "execution_count": 21,
   "metadata": {},
   "outputs": [
    {
     "name": "stdout",
     "output_type": "stream",
     "text": [
      "Accuracy: 82.94%\n",
      "Cross-validation scores:  [0.83676471 0.82058824 0.82794118 0.81001473 0.7820324 ]\n",
      "Average cross-validation score:  0.8154682491553322\n"
     ]
    }
   ],
   "source": [
    "# Create a Logistic Regression model\n",
    "model = RandomForestClassifier(n_estimators=100)\n",
    "model.fit(X_train, y_train)\n",
    "\n",
    "# Predict on the test data\n",
    "y_pred = model.predict(X_test)\n",
    "\n",
    "# Calculate the accuracy\n",
    "accuracy = accuracy_score(y_test, y_pred)\n",
    "\n",
    "print(f'Accuracy: {accuracy*100:.2f}%')\n",
    "\n",
    "# Perform 5-fold cross validation\n",
    "scores = cross_val_score(model, X, y, cv=5)\n",
    "\n",
    "# Print cross validation scores\n",
    "print(\"Cross-validation scores: \", scores)\n",
    "\n",
    "# Print the average of the cross-validation scores\n",
    "print(\"Average cross-validation score: \", scores.mean())"
   ]
  },
  {
   "cell_type": "code",
   "execution_count": 18,
   "metadata": {},
   "outputs": [
    {
     "name": "stderr",
     "output_type": "stream",
     "text": [
      "/home/alphalejo/anaconda3/envs/myenv/lib/python3.11/site-packages/sklearn/linear_model/_logistic.py:458: ConvergenceWarning: lbfgs failed to converge (status=1):\n",
      "STOP: TOTAL NO. of ITERATIONS REACHED LIMIT.\n",
      "\n",
      "Increase the number of iterations (max_iter) or scale the data as shown in:\n",
      "    https://scikit-learn.org/stable/modules/preprocessing.html\n",
      "Please also refer to the documentation for alternative solver options:\n",
      "    https://scikit-learn.org/stable/modules/linear_model.html#logistic-regression\n",
      "  n_iter_i = _check_optimize_result(\n",
      "/home/alphalejo/anaconda3/envs/myenv/lib/python3.11/site-packages/sklearn/linear_model/_logistic.py:458: ConvergenceWarning: lbfgs failed to converge (status=1):\n",
      "STOP: TOTAL NO. of ITERATIONS REACHED LIMIT.\n",
      "\n",
      "Increase the number of iterations (max_iter) or scale the data as shown in:\n",
      "    https://scikit-learn.org/stable/modules/preprocessing.html\n",
      "Please also refer to the documentation for alternative solver options:\n",
      "    https://scikit-learn.org/stable/modules/linear_model.html#logistic-regression\n",
      "  n_iter_i = _check_optimize_result(\n",
      "/home/alphalejo/anaconda3/envs/myenv/lib/python3.11/site-packages/sklearn/linear_model/_logistic.py:458: ConvergenceWarning: lbfgs failed to converge (status=1):\n",
      "STOP: TOTAL NO. of ITERATIONS REACHED LIMIT.\n",
      "\n",
      "Increase the number of iterations (max_iter) or scale the data as shown in:\n",
      "    https://scikit-learn.org/stable/modules/preprocessing.html\n",
      "Please also refer to the documentation for alternative solver options:\n",
      "    https://scikit-learn.org/stable/modules/linear_model.html#logistic-regression\n",
      "  n_iter_i = _check_optimize_result(\n",
      "/home/alphalejo/anaconda3/envs/myenv/lib/python3.11/site-packages/sklearn/linear_model/_logistic.py:458: ConvergenceWarning: lbfgs failed to converge (status=1):\n",
      "STOP: TOTAL NO. of ITERATIONS REACHED LIMIT.\n",
      "\n",
      "Increase the number of iterations (max_iter) or scale the data as shown in:\n",
      "    https://scikit-learn.org/stable/modules/preprocessing.html\n",
      "Please also refer to the documentation for alternative solver options:\n",
      "    https://scikit-learn.org/stable/modules/linear_model.html#logistic-regression\n",
      "  n_iter_i = _check_optimize_result(\n"
     ]
    },
    {
     "name": "stdout",
     "output_type": "stream",
     "text": [
      "Cross-validation scores:  [0.65006729 0.56393001 0.65006729 0.5916442  0.60242588]\n",
      "Average cross-validation score:  0.6116269367647005\n"
     ]
    },
    {
     "name": "stderr",
     "output_type": "stream",
     "text": [
      "/home/alphalejo/anaconda3/envs/myenv/lib/python3.11/site-packages/sklearn/linear_model/_logistic.py:458: ConvergenceWarning: lbfgs failed to converge (status=1):\n",
      "STOP: TOTAL NO. of ITERATIONS REACHED LIMIT.\n",
      "\n",
      "Increase the number of iterations (max_iter) or scale the data as shown in:\n",
      "    https://scikit-learn.org/stable/modules/preprocessing.html\n",
      "Please also refer to the documentation for alternative solver options:\n",
      "    https://scikit-learn.org/stable/modules/linear_model.html#logistic-regression\n",
      "  n_iter_i = _check_optimize_result(\n"
     ]
    }
   ],
   "source": [
    "# Create a Logistic Regression model\n",
    "clf = LogisticRegression()\n",
    "clf = LogisticRegression(max_iter=1000)\n",
    "\n",
    "# Perform 5-fold cross validation\n",
    "scores = cross_val_score(clf, X, y, cv=5)\n",
    "\n",
    "# Print cross validation scores\n",
    "print(\"Cross-validation scores: \", scores)\n",
    "\n",
    "# Print the average of the cross-validation scores\n",
    "print(\"Average cross-validation score: \", scores.mean())"
   ]
  },
  {
   "cell_type": "code",
   "execution_count": null,
   "metadata": {},
   "outputs": [],
   "source": []
  }
 ],
 "metadata": {
  "kernelspec": {
   "display_name": "base",
   "language": "python",
   "name": "python3"
  },
  "language_info": {
   "codemirror_mode": {
    "name": "ipython",
    "version": 3
   },
   "file_extension": ".py",
   "mimetype": "text/x-python",
   "name": "python",
   "nbconvert_exporter": "python",
   "pygments_lexer": "ipython3",
   "version": "3.11.5"
  }
 },
 "nbformat": 4,
 "nbformat_minor": 2
}

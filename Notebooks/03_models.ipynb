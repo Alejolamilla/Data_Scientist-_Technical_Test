{
 "cells": [
  {
   "cell_type": "code",
   "execution_count": 1,
   "metadata": {},
   "outputs": [],
   "source": [
    "import pandas as pd\n",
    "from sklearn.model_selection import train_test_split\n",
    "from sklearn.ensemble import RandomForestClassifier\n",
    "\n"
   ]
  },
  {
   "cell_type": "code",
   "execution_count": 2,
   "metadata": {},
   "outputs": [],
   "source": [
    "offers_df = pd.read_csv(\"../Data/Processed/offers_enriched.csv\")\n",
    "leads_df = pd.read_csv(\"../Data/Processed/leads_processed.csv\")"
   ]
  },
  {
   "cell_type": "code",
   "execution_count": 3,
   "metadata": {},
   "outputs": [
    {
     "data": {
      "text/plain": [
       "Id                                 object\n",
       "Status                             object\n",
       "Acquisition Campaign_0              int64\n",
       "Acquisition Campaign_1              int64\n",
       "Acquisition Campaign_2              int64\n",
       "Acquisition Campaign_3              int64\n",
       "Acquisition Campaign_4              int64\n",
       "Acquisition Campaign_5              int64\n",
       "Converted                            bool\n",
       "City_0                              int64\n",
       "City_1                              int64\n",
       "City_2                              int64\n",
       "City_3                              int64\n",
       "City_4                              int64\n",
       "Use Case_Concerts and festivals     int64\n",
       "Use Case_Corporate Events           int64\n",
       "Use Case_Educational Seminars       int64\n",
       "Use Case_Not_Specified              int64\n",
       "Use Case_Sports Events              int64\n",
       "Use Case_Wedding Planning           int64\n",
       "Source_Inbound                      int64\n",
       "Source_Not_Specified                int64\n",
       "Source_Outbound                     int64\n",
       "month                               int64\n",
       "day                                 int64\n",
       "dtype: object"
      ]
     },
     "execution_count": 3,
     "metadata": {},
     "output_type": "execute_result"
    }
   ],
   "source": [
    "leads_df.dtypes"
   ]
  },
  {
   "cell_type": "markdown",
   "metadata": {},
   "source": [
    "# Dealing With Leads Dataset"
   ]
  },
  {
   "cell_type": "code",
   "execution_count": 7,
   "metadata": {},
   "outputs": [],
   "source": [
    "X = leads_df.drop([\"Id\",\"Status\"], axis=1)\n",
    "y = leads_df[\"Status\"]\n",
    "\n",
    "X_train, X_test, y_train, y_test = train_test_split(X, y, test_size=0.2, random_state=42)"
   ]
  },
  {
   "cell_type": "code",
   "execution_count": 8,
   "metadata": {},
   "outputs": [
    {
     "data": {
      "text/plain": [
       "array([6.73601148e-03, 1.18264756e-02, 1.04517346e-02, 1.56235716e-02,\n",
       "       1.91811245e-02, 1.55044824e-02, 1.91755679e-01, 1.75162150e-02,\n",
       "       2.15292777e-02, 2.83997231e-02, 2.94577392e-02, 2.58970259e-02,\n",
       "       7.39606114e-04, 1.14137212e-02, 8.59821025e-03, 9.74042551e-03,\n",
       "       5.85833217e-03, 4.36703642e-04, 7.70591189e-03, 2.77062395e-04,\n",
       "       6.74906754e-03, 1.97487828e-01, 3.57114071e-01])"
      ]
     },
     "execution_count": 8,
     "metadata": {},
     "output_type": "execute_result"
    }
   ],
   "source": [
    "clf = RandomForestClassifier()\n",
    "clf.fit(X_train, y_train)\n",
    "\n",
    "feature_importances = clf.feature_importances_\n",
    "feature_importances"
   ]
  },
  {
   "cell_type": "code",
   "execution_count": null,
   "metadata": {},
   "outputs": [],
   "source": []
  }
 ],
 "metadata": {
  "kernelspec": {
   "display_name": "base",
   "language": "python",
   "name": "python3"
  },
  "language_info": {
   "codemirror_mode": {
    "name": "ipython",
    "version": 3
   },
   "file_extension": ".py",
   "mimetype": "text/x-python",
   "name": "python",
   "nbconvert_exporter": "python",
   "pygments_lexer": "ipython3",
   "version": "3.9.13"
  }
 },
 "nbformat": 4,
 "nbformat_minor": 2
}

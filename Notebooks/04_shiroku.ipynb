{
 "cells": [
  {
   "cell_type": "code",
   "execution_count": 98,
   "metadata": {},
   "outputs": [],
   "source": [
    "import toolbox\n",
    "import pandas as pd\n",
    "import numpy as np\n",
    "import random\n",
    "import shimoku_api_python as shimoku\n",
    "\n",
    "from sklearn.model_selection import train_test_split\n",
    "from sklearn.ensemble import RandomForestClassifier\n",
    "from sklearn.model_selection import cross_val_score\n",
    "from sklearn.feature_extraction import DictVectorizer"
   ]
  },
  {
   "cell_type": "code",
   "execution_count": 99,
   "metadata": {},
   "outputs": [],
   "source": [
    "merge_df = pd.read_csv(\"../Data/Processed/merge_processed.csv\")\n",
    "raw_leads = pd.read_csv(\"../Data/Raw/leads.csv\")\n",
    "raw_offers = pd.read_csv(\"../Data/Raw/offers.csv\")"
   ]
  },
  {
   "cell_type": "code",
   "execution_count": 100,
   "metadata": {},
   "outputs": [],
   "source": [
    "# Creating X and y variables\n",
    "X = merge_df.drop([\"Status\"], axis=1)\n",
    "y = merge_df[\"Status\"]\n",
    "\n",
    "# Creating training and test datasets\n",
    "X_train, X_test, y_train, y_test = train_test_split(X, y, test_size=0.2, random_state=42)\n",
    "\n",
    "X_train.drop([\"Id\"], axis=1, inplace=True)"
   ]
  },
  {
   "cell_type": "markdown",
   "metadata": {},
   "source": [
    "### Modeling"
   ]
  },
  {
   "cell_type": "code",
   "execution_count": 101,
   "metadata": {},
   "outputs": [
    {
     "name": "stdout",
     "output_type": "stream",
     "text": [
      "Cross-validation scores:  [0.75252525 0.77777778 0.74579125 0.73737374 0.73569024]\n",
      "Average cross-validation score:  0.7498316498316498\n"
     ]
    }
   ],
   "source": [
    "# Create a Logistic Regression model\n",
    "clf = RandomForestClassifier(n_estimators=100)\n",
    "clf.fit(X_train, y_train)\n",
    "# Perform 5-fold cross validation\n",
    "scores = cross_val_score(clf, X_train, y_train, cv=5)\n",
    "\n",
    "# Print cross validation scores\n",
    "print(\"Cross-validation scores: \", scores)\n",
    "\n",
    "# Print the average of the cross-validation scores\n",
    "print(\"Average cross-validation score: \", scores.mean())"
   ]
  },
  {
   "cell_type": "code",
   "execution_count": 102,
   "metadata": {},
   "outputs": [],
   "source": [
    "test_prediction = clf.predict_proba(X_test.drop([\"Id\"], axis=1))[:, 1]"
   ]
  },
  {
   "cell_type": "code",
   "execution_count": 103,
   "metadata": {},
   "outputs": [],
   "source": [
    "df_test = X_test.copy()\n",
    "df_test[\"Status\"] = y_test\n",
    "\n",
    "binary_prediction_table = pd.DataFrame({\n",
    "    'Lead ID': df_test['Id'].values,\n",
    "    'Probability': [round(100 * p, 2) for p in test_prediction],\n",
    "    'Lead Scoring': ['High' if v > 0.75 else 'Medium' if v > 0.5 else 'Low' for v in test_prediction],\n",
    "})\n",
    "\n",
    "total_occurrences = len(binary_prediction_table)\n",
    "high_conversion_occurrences = len(binary_prediction_table[binary_prediction_table['Lead Scoring'] == 'High'])\n",
    "moderate_conversion_occurrences = len(binary_prediction_table[binary_prediction_table['Lead Scoring'] == 'Medium'])\n",
    "low_conversion_occurrences = len(binary_prediction_table[binary_prediction_table['Lead Scoring'] == 'Low'])\n",
    "\n",
    "high_conversion = high_conversion_occurrences / total_occurrences\n",
    "moderate_conversion = moderate_conversion_occurrences / total_occurrences\n",
    "low_conversion = low_conversion_occurrences / total_occurrences"
   ]
  },
  {
   "cell_type": "code",
   "execution_count": 104,
   "metadata": {},
   "outputs": [
    {
     "data": {
      "text/html": [
       "<style>#sk-container-id-5 {color: black;background-color: white;}#sk-container-id-5 pre{padding: 0;}#sk-container-id-5 div.sk-toggleable {background-color: white;}#sk-container-id-5 label.sk-toggleable__label {cursor: pointer;display: block;width: 100%;margin-bottom: 0;padding: 0.3em;box-sizing: border-box;text-align: center;}#sk-container-id-5 label.sk-toggleable__label-arrow:before {content: \"▸\";float: left;margin-right: 0.25em;color: #696969;}#sk-container-id-5 label.sk-toggleable__label-arrow:hover:before {color: black;}#sk-container-id-5 div.sk-estimator:hover label.sk-toggleable__label-arrow:before {color: black;}#sk-container-id-5 div.sk-toggleable__content {max-height: 0;max-width: 0;overflow: hidden;text-align: left;background-color: #f0f8ff;}#sk-container-id-5 div.sk-toggleable__content pre {margin: 0.2em;color: black;border-radius: 0.25em;background-color: #f0f8ff;}#sk-container-id-5 input.sk-toggleable__control:checked~div.sk-toggleable__content {max-height: 200px;max-width: 100%;overflow: auto;}#sk-container-id-5 input.sk-toggleable__control:checked~label.sk-toggleable__label-arrow:before {content: \"▾\";}#sk-container-id-5 div.sk-estimator input.sk-toggleable__control:checked~label.sk-toggleable__label {background-color: #d4ebff;}#sk-container-id-5 div.sk-label input.sk-toggleable__control:checked~label.sk-toggleable__label {background-color: #d4ebff;}#sk-container-id-5 input.sk-hidden--visually {border: 0;clip: rect(1px 1px 1px 1px);clip: rect(1px, 1px, 1px, 1px);height: 1px;margin: -1px;overflow: hidden;padding: 0;position: absolute;width: 1px;}#sk-container-id-5 div.sk-estimator {font-family: monospace;background-color: #f0f8ff;border: 1px dotted black;border-radius: 0.25em;box-sizing: border-box;margin-bottom: 0.5em;}#sk-container-id-5 div.sk-estimator:hover {background-color: #d4ebff;}#sk-container-id-5 div.sk-parallel-item::after {content: \"\";width: 100%;border-bottom: 1px solid gray;flex-grow: 1;}#sk-container-id-5 div.sk-label:hover label.sk-toggleable__label {background-color: #d4ebff;}#sk-container-id-5 div.sk-serial::before {content: \"\";position: absolute;border-left: 1px solid gray;box-sizing: border-box;top: 0;bottom: 0;left: 50%;z-index: 0;}#sk-container-id-5 div.sk-serial {display: flex;flex-direction: column;align-items: center;background-color: white;padding-right: 0.2em;padding-left: 0.2em;position: relative;}#sk-container-id-5 div.sk-item {position: relative;z-index: 1;}#sk-container-id-5 div.sk-parallel {display: flex;align-items: stretch;justify-content: center;background-color: white;position: relative;}#sk-container-id-5 div.sk-item::before, #sk-container-id-5 div.sk-parallel-item::before {content: \"\";position: absolute;border-left: 1px solid gray;box-sizing: border-box;top: 0;bottom: 0;left: 50%;z-index: -1;}#sk-container-id-5 div.sk-parallel-item {display: flex;flex-direction: column;z-index: 1;position: relative;background-color: white;}#sk-container-id-5 div.sk-parallel-item:first-child::after {align-self: flex-end;width: 50%;}#sk-container-id-5 div.sk-parallel-item:last-child::after {align-self: flex-start;width: 50%;}#sk-container-id-5 div.sk-parallel-item:only-child::after {width: 0;}#sk-container-id-5 div.sk-dashed-wrapped {border: 1px dashed gray;margin: 0 0.4em 0.5em 0.4em;box-sizing: border-box;padding-bottom: 0.4em;background-color: white;}#sk-container-id-5 div.sk-label label {font-family: monospace;font-weight: bold;display: inline-block;line-height: 1.2em;}#sk-container-id-5 div.sk-label-container {text-align: center;}#sk-container-id-5 div.sk-container {/* jupyter's `normalize.less` sets `[hidden] { display: none; }` but bootstrap.min.css set `[hidden] { display: none !important; }` so we also need the `!important` here to be able to override the default hidden behavior on the sphinx rendered scikit-learn.org. See: https://github.com/scikit-learn/scikit-learn/issues/21755 */display: inline-block !important;position: relative;}#sk-container-id-5 div.sk-text-repr-fallback {display: none;}</style><div id=\"sk-container-id-5\" class=\"sk-top-container\"><div class=\"sk-text-repr-fallback\"><pre>DictVectorizer(sparse=False)</pre><b>In a Jupyter environment, please rerun this cell to show the HTML representation or trust the notebook. <br />On GitHub, the HTML representation is unable to render, please try loading this page with nbviewer.org.</b></div><div class=\"sk-container\" hidden><div class=\"sk-item\"><div class=\"sk-estimator sk-toggleable\"><input class=\"sk-toggleable__control sk-hidden--visually\" id=\"sk-estimator-id-5\" type=\"checkbox\" checked><label for=\"sk-estimator-id-5\" class=\"sk-toggleable__label sk-toggleable__label-arrow\">DictVectorizer</label><div class=\"sk-toggleable__content\"><pre>DictVectorizer(sparse=False)</pre></div></div></div></div></div>"
      ],
      "text/plain": [
       "DictVectorizer(sparse=False)"
      ]
     },
     "execution_count": 104,
     "metadata": {},
     "output_type": "execute_result"
    }
   ],
   "source": [
    "df_train = X_train.copy()\n",
    "df_train[\"Status\"] = y_train\n",
    "\n",
    "train_dic = df_train.to_dict(orient='records')\n",
    "dv = DictVectorizer(sparse=False)\n",
    "dv.fit(train_dic)"
   ]
  },
  {
   "cell_type": "markdown",
   "metadata": {},
   "source": [
    "### Define Auxiliary Funtions"
   ]
  },
  {
   "cell_type": "code",
   "execution_count": 105,
   "metadata": {},
   "outputs": [],
   "source": [
    "def get_label_columns(table_data: pd.DataFrame):\n",
    "    low_threshold = table_data[\"Probability\"][table_data[\"Lead Scoring\"] == \"Low\"].max() + 1e-10\n",
    "    mid_threshold = table_data[\"Probability\"][table_data[\"Lead Scoring\"] == \"Medium\"].max() + 1e-10\n",
    "    return {\n",
    "        ('Positive Impact Factors', 'outlined'): '#20C69E',\n",
    "        ('Negative Impact Factors', 'outlined'): '#ED5627',\n",
    "        'Lead Scoring': {\n",
    "            'Low': '#F86C7D',\n",
    "            'High': '#001E50',\n",
    "            'Medium': '#F2BB67',\n",
    "        },\n",
    "        'Probability': {\n",
    "            (0, low_threshold): '#F86C7D',\n",
    "            (low_threshold, mid_threshold): '#F2BB67',\n",
    "            (mid_threshold, np.inf): '#001E50',\n",
    "        },\n",
    "    }"
   ]
  },
  {
   "cell_type": "markdown",
   "metadata": {},
   "source": [
    "### Client Initialization"
   ]
  },
  {
   "cell_type": "code",
   "execution_count": 134,
   "metadata": {},
   "outputs": [
    {
     "name": "stdout",
     "output_type": "stream",
     "text": [
      "2023-12-14 20:59 | INFO | Starting execution: \u001b[4mset_workspace\u001b[0m\n",
      "2023-12-14 20:59 | INFO | Finished execution: \u001b[4mset_workspace\u001b[0m, elapsed time: 1712.29 ms\n",
      "2023-12-14 20:59 | INFO | Starting execution: \u001b[4mset_menu_path\u001b[0m\n",
      "2023-12-14 20:59 | INFO | Created menu path Scoring with id d4d542c7-d182-4813-aad6-33fc9c8dcaf7\n",
      "2023-12-14 20:59 | INFO | Retrieved board Default Name with id bfebf856-afc6-4e02-bac1-c09e615f127c\n",
      "2023-12-14 20:59 | INFO | Menu path Scoring added to board Default Name\n",
      "2023-12-14 20:59 | INFO | Finished execution: \u001b[4mset_menu_path\u001b[0m, elapsed time: 11015.55 ms\n"
     ]
    }
   ],
   "source": [
    "api_key: str = \"90336deb-e537-40a5-98e8-a91eb731a823\"\n",
    "universe_id: str = \"c2edae80-3e21-4f15-8c51-c394b34475cf\"\n",
    "workspace_id: str = \"e96f1077-ae84-4068-9333-457b5d65ec37\"\n",
    "\n",
    "\n",
    "s = shimoku.Client(\n",
    "    access_token=api_key,\n",
    "    universe_id=universe_id,\n",
    "    async_execution=True,\n",
    "    verbosity='INFO',\n",
    ")\n",
    "s.set_workspace(workspace_id)\n",
    "s.set_menu_path('Lead Scoring')"
   ]
  },
  {
   "cell_type": "markdown",
   "metadata": {},
   "source": [
    "### Clear Menu Path"
   ]
  },
  {
   "cell_type": "code",
   "execution_count": 107,
   "metadata": {},
   "outputs": [
    {
     "name": "stdout",
     "output_type": "stream",
     "text": [
      "2023-12-14 20:50 | INFO | Starting execution: \u001b[4mclear_menu_path\u001b[0m\n",
      "2023-12-14 20:50 | INFO | Deleted 9 components\n",
      "2023-12-14 20:50 | INFO | Deleted 4 unused datasets from the menu path Lead Scoring\n",
      "2023-12-14 20:50 | INFO | Finished execution: \u001b[4mclear_menu_path\u001b[0m, elapsed time: 13642.94 ms\n"
     ]
    }
   ],
   "source": [
    "s.plt.clear_menu_path()"
   ]
  },
  {
   "cell_type": "markdown",
   "metadata": {},
   "source": [
    "### Page Header"
   ]
  },
  {
   "cell_type": "code",
   "execution_count": 108,
   "metadata": {},
   "outputs": [
    {
     "name": "stdout",
     "output_type": "stream",
     "text": [
      "2023-12-14 20:50 | INFO | html added to the task pool\n"
     ]
    }
   ],
   "source": [
    "prediction_header = (\n",
    "    \"<head>\"\n",
    "    \"<style>\"  # Styles title\n",
    "    \".component-title{height:auto; width:100%; \"\n",
    "    \"border-radius:16px; padding:16px;\"\n",
    "    \"display:flex; align-items:center;\"\n",
    "    \"background-color:var(--chart-C1); color:var(--color-white);}\"\n",
    "    \"</style>\"\n",
    "    # Start icons style\n",
    "    \"<style>.big-icon-banner\"\n",
    "    \"{width:48px; height: 48px; display: flex;\"\n",
    "    \"margin-right: 16px;\"\n",
    "    \"justify-content: center;\"\n",
    "    \"align-items: center;\"\n",
    "    \"background-size: contain;\"\n",
    "    \"background-position: center;\"\n",
    "    \"background-repeat: no-repeat;\"\n",
    "    \"background-image: url('https://uploads-ssl.webflow.com/619f9fe98661d321dc3beec7/63594ccf3f311a98d72faff7_suite-customer-b.svg');}\"\n",
    "    \"</style>\"\n",
    "    # End icons style\n",
    "    \"<style>.base-white{color:var(--color-white);}</style>\"\n",
    "    \"</head>\"  # Styles subtitle\n",
    "    \"<div class='component-title'>\"\n",
    "    \"<div class='big-icon-banner'></div>\"\n",
    "    \"<div class='text-block'>\"\n",
    "    \"<h1>Predictions</h1>\"\n",
    "    \"<p class='base-white'>\"\n",
    "    \"Lead scoring prediction</p>\"\n",
    "    \"</div>\"\n",
    "    \"</div>\"\n",
    ")\n",
    "s.plt.html(html=prediction_header, order=0)"
   ]
  },
  {
   "cell_type": "markdown",
   "metadata": {},
   "source": [
    "### General Indicators"
   ]
  },
  {
   "cell_type": "code",
   "execution_count": 109,
   "metadata": {},
   "outputs": [],
   "source": [
    "prediction_indicators = [\n",
    "    {\n",
    "        'description': f\"{100 * high_conversion:.2f}% of total {total_occurrences}\",\n",
    "        'title': 'High conversion (#)',\n",
    "        'value': int(total_occurrences * high_conversion),\n",
    "        'color': 'success',\n",
    "        'taregPath': 'www.shimoku.com',\n",
    "    },\n",
    "    {\n",
    "        'description': '% of leads that will purchase within 120 days. Time saved: 80%',\n",
    "        'title': 'High conversion expected',\n",
    "        'value': '85%',\n",
    "        'color': 'success',\n",
    "        'variant': 'contained',\n",
    "        'targetPath': 'www.shimoku.com',\n",
    "    },\n",
    "    {\n",
    "        'description': f\"{100 * moderate_conversion:.2f}% of total {total_occurrences}\",\n",
    "        'title': 'Moderate conversion (#)',\n",
    "        'value': int(total_occurrences * moderate_conversion),\n",
    "        'color': 'warning',\n",
    "        'taregPath': 'www.shimoku.com',\n",
    "    },\n",
    "    {\n",
    "        'description': '% of leads that will purchase within 120 days. Time saved: 70%',\n",
    "        'title': 'Medium conversion expected',\n",
    "        'value': '40%',\n",
    "        'color': 'warning',\n",
    "        'variant': 'contained',\n",
    "        'taregPath': 'www.shimoku.com',\n",
    "    },\n",
    "    {\n",
    "        \"description\": f\"{100 * low_conversion:.2f}% of total {total_occurrences}\",\n",
    "        \"title\": 'Low conversion (#)',\n",
    "        \"value\": int(total_occurrences * low_conversion),\n",
    "        \"color\": 'error',\n",
    "    },\n",
    "    {\n",
    "        'description': '% of leads that will purchase within 120 days.',\n",
    "        'title': 'Low conversion expected',\n",
    "        'value': '5%',\n",
    "        'color': 'error',\n",
    "        'variant': 'contained',\n",
    "    },\n",
    "]"
   ]
  },
  {
   "cell_type": "code",
   "execution_count": 110,
   "metadata": {},
   "outputs": [
    {
     "name": "stdout",
     "output_type": "stream",
     "text": [
      "2023-12-14 20:50 | INFO | Starting execution: \u001b[4mindicator\u001b[0m\n",
      "2023-12-14 20:50 | INFO | create indicator added to the task pool\n",
      "2023-12-14 20:50 | INFO | create indicator added to the task pool\n",
      "2023-12-14 20:50 | INFO | Finished execution: \u001b[4mindicator\u001b[0m, elapsed time: 6.36 ms\n",
      "2023-12-14 20:50 | INFO | Starting execution: \u001b[4mindicator\u001b[0m\n",
      "2023-12-14 20:50 | INFO | create indicator added to the task pool\n",
      "2023-12-14 20:50 | INFO | create indicator added to the task pool\n",
      "2023-12-14 20:50 | INFO | Finished execution: \u001b[4mindicator\u001b[0m, elapsed time: 5.01 ms\n",
      "2023-12-14 20:50 | INFO | Starting execution: \u001b[4mindicator\u001b[0m\n",
      "2023-12-14 20:50 | INFO | create indicator added to the task pool\n",
      "2023-12-14 20:50 | INFO | create indicator added to the task pool\n",
      "2023-12-14 20:50 | INFO | Finished execution: \u001b[4mindicator\u001b[0m, elapsed time: 6.25 ms\n"
     ]
    }
   ],
   "source": [
    "for i in range(3):\n",
    "    s.plt.indicator(\n",
    "        data=prediction_indicators[i * 2:i * 2 + 2], order=i*2+1, rows_size=1, cols_size=12,\n",
    "    )"
   ]
  },
  {
   "cell_type": "markdown",
   "metadata": {},
   "source": [
    "### Missing Values"
   ]
  },
  {
   "cell_type": "code",
   "execution_count": 111,
   "metadata": {},
   "outputs": [
    {
     "data": {
      "text/plain": [
       "'prediction_table_header = (                                                     \\n    \\'<div style=\"width:100%; height:90px; \"><h4>Missing Values in the data</h4>\\'  \\n    \\'<p>Each Dataset has a huge amount of missing data depending of the column</p></div>\\'                             \\n)                                                                               \\ns.plt.html(html=prediction_table_header, order=7) \\n\\ntoolbox.null_data_proportion(raw_leads)\\n\\ns.plt.stacked_horizontal_bar(\\n    data=pd.read_csv(\\'../Data/Raw/leads.csv\\'), x=\"Segment\", order=0,\\n    x_axis_name=\\'Distribution and weight of the Drivers\\',\\n)'"
      ]
     },
     "execution_count": 111,
     "metadata": {},
     "output_type": "execute_result"
    }
   ],
   "source": [
    "'''prediction_table_header = (                                                     \n",
    "    '<div style=\"width:100%; height:90px; \"><h4>Missing Values in the data</h4>'  \n",
    "    '<p>Each Dataset has a huge amount of missing data depending of the column</p></div>'                             \n",
    ")                                                                               \n",
    "s.plt.html(html=prediction_table_header, order=7) \n",
    "\n",
    "toolbox.null_data_proportion(raw_leads)\n",
    "\n",
    "s.plt.stacked_horizontal_bar(\n",
    "    data=pd.read_csv('../Data/Raw/leads.csv'), x=\"Segment\", order=0,\n",
    "    x_axis_name='Distribution and weight of the Drivers',\n",
    ")'''"
   ]
  },
  {
   "cell_type": "code",
   "execution_count": 112,
   "metadata": {},
   "outputs": [
    {
     "data": {
      "text/plain": [
       "Id                            17667\n",
       "First Name                     8399\n",
       "Use Case                      16721\n",
       "Source                         1346\n",
       "Status                            0\n",
       "Discarded/Nurturing Reason    16470\n",
       "Acquisition Campaign          36592\n",
       "Created Date                      0\n",
       "Converted                         0\n",
       "City                          26710\n",
       "dtype: int64"
      ]
     },
     "execution_count": 112,
     "metadata": {},
     "output_type": "execute_result"
    }
   ],
   "source": [
    "raw_leads.isna().sum()"
   ]
  },
  {
   "cell_type": "code",
   "execution_count": 129,
   "metadata": {},
   "outputs": [],
   "source": [
    "data = raw_leads.isna().sum()\n",
    "x_val = data.index"
   ]
  },
  {
   "cell_type": "code",
   "execution_count": 132,
   "metadata": {},
   "outputs": [
    {
     "name": "stdout",
     "output_type": "stream",
     "text": [
      "2023-12-14 20:53 | INFO | horizontal_bar_chart added to the task pool\n"
     ]
    }
   ],
   "source": [
    "data2 = [\n",
    "    {'Name': 'd', 'y': 6, 'z': 3},\n",
    "    {'Name': 'c', 'y': 7, 'z': 1},\n",
    "    {'Name': 'b', 'y': 3, 'z': 5},\n",
    "    {'Name': 'a', 'y': 5, 'z': 6},\n",
    "]\n",
    "\n",
    "s.plt.horizontal_bar(\n",
    "    data=data, x=x_val, order=2,\n",
    "    rows_size=2, cols_size=12,\n",
    ")"
   ]
  },
  {
   "cell_type": "code",
   "execution_count": 133,
   "metadata": {},
   "outputs": [
    {
     "name": "stdout",
     "output_type": "stream",
     "text": [
      "2023-12-14 20:53 | INFO | Executing task pool\n",
      "2023-12-14 20:53 | INFO | Starting execution: \u001b[4mhorizontal_bar_chart\u001b[0m\n",
      "2023-12-14 20:53 | INFO | Deleted data set with name 21120259-c1f4-4a82-a290-20392fe0e77b\n",
      "2023-12-14 20:53 | INFO | Created data set with id 51a0ea44-f652-4cb3-839d-58fe3fb15fb0 and name 21120259-c1f4-4a82-a290-20392fe0e77b\n"
     ]
    }
   ],
   "source": [
    "s.run()"
   ]
  },
  {
   "cell_type": "markdown",
   "metadata": {},
   "source": [
    "### Prediction Table"
   ]
  },
  {
   "cell_type": "code",
   "execution_count": 115,
   "metadata": {},
   "outputs": [
    {
     "name": "stdout",
     "output_type": "stream",
     "text": [
      "2023-12-14 20:50 | INFO | html added to the task pool\n",
      "2023-12-14 20:50 | INFO | table added to the task pool\n",
      "2023-12-14 20:50 | INFO | html added to the task pool\n"
     ]
    }
   ],
   "source": [
    "prediction_table_header = (                                                     \n",
    "    '<div style=\"width:100%; height:90px; \"><h4>Lead predicton & factors</h4>'  \n",
    "    '<p>Affectation values for each lead</p></div>'                             \n",
    ")                                                                               \n",
    "s.plt.html(html=prediction_table_header, order=7)              \n",
    "\n",
    "label_columns = get_label_columns(binary_prediction_table)\n",
    "\n",
    "s.plt.table(                                              \n",
    "    order=8, data=binary_prediction_table[:200],                 \n",
    "    label_columns=label_columns, categorical_columns=['Lead Scoring'], \n",
    "    columns_options={                                                  \n",
    "        'Lead ID': {'width': 100},                                     \n",
    "        'Lead Scoring': {'width': 120},                                \n",
    "        'Probability': {'width': 120},                                 \n",
    "        'Positive Impact Factors': {'width': 590},                     \n",
    "        'Negative Impact Factors': {'width': 590}                      \n",
    "    }\n",
    ")                                                                 \n",
    "\n",
    "table_explanaiton = (\n",
    "    \"<head>\"\n",
    "    \"<style>.banner\"\n",
    "    \"{height:100%; width:100%; border-radius:var(--border-radius-m); padding:24px;\"\n",
    "    \"background-size: cover;\"\n",
    "    \"background-image: url('https://ajgutierrezcommx.files.wordpress.com/2022/12/bg-info-predictions.png');\"\n",
    "    \"color:var(--color-white);}\"\n",
    "    \"</style>\"\n",
    "    \"</head>\"\n",
    "    \"<a href='https://shimoku.webflow.io/product/churn-prediction' target='_blank'>\"  # link\n",
    "    \"<div class='banner'>\"\n",
    "    \"<p class='base-white'>\"\n",
    "    \"This table shows the impact values that effect each prediction of each policy. \"\n",
    "    \"With it you can make the best decisions. <br>\"\n",
    "    \"By filtering the data, by the values that interest you the most or by the probability of \"\n",
    "    \"conversion that you want to improve, you will be able to take the necessary actions \"\n",
    "    \"to obtain the maximum benefit or reduce the losses to a minimum.\"\n",
    "    \"</p>\"\n",
    "    \"<div class='button'>Know more</div>\"  # Text button\n",
    "    \"</div>\"\n",
    "    \"</a>\"\n",
    ")\n",
    "s.plt.html(html=table_explanaiton, order=9)"
   ]
  },
  {
   "cell_type": "markdown",
   "metadata": {},
   "source": [
    "### Distribution "
   ]
  },
  {
   "cell_type": "code",
   "execution_count": 116,
   "metadata": {},
   "outputs": [
    {
     "name": "stdout",
     "output_type": "stream",
     "text": [
      "2023-12-14 20:50 | INFO | html added to the task pool\n"
     ]
    }
   ],
   "source": [
    "distribution_header_html = (                                                                              \n",
    "    '<div style=\"width:100%; height:90px; \"><h4>Lead distribution according to % scoring prediction</h4>' \n",
    "    '<p>Total and disaggregated distribution and porcentage</p></div>'                                    \n",
    ")                                                                                                         \n",
    "s.plt.html(html=distribution_header_html, order=10)      "
   ]
  },
  {
   "cell_type": "code",
   "execution_count": 117,
   "metadata": {},
   "outputs": [],
   "source": [
    "doughnut_chart_data = f\"\"\"\n",
    "    {{\n",
    "        tooltip: {{\n",
    "        trigger: 'item'\n",
    "    }},\n",
    "    legend: {{\n",
    "        top: '5%',\n",
    "        left: 'center'\n",
    "    }},\n",
    "    series: [\n",
    "    {{\n",
    "        name: 'Access From',\n",
    "        type: 'pie',\n",
    "        radius: ['40%', '70%'],\n",
    "        avoidLabelOverlap: false,\n",
    "        itemStyle: {{\n",
    "            borderRadius: 0,\n",
    "            borderColor: '#fff',\n",
    "            borderWidth: 0\n",
    "        }},\n",
    "        label: {{\n",
    "            show: false,\n",
    "            position: 'center'\n",
    "        }},\n",
    "        emphasis: {{\n",
    "            label: {{\n",
    "            show: false,\n",
    "            fontSize: '40',\n",
    "            fontWeight: 'bold'\n",
    "        }}\n",
    "      }},\n",
    "      labelLine: {{\n",
    "        show: false\n",
    "      }},\n",
    "      data: [\n",
    "        {{ value: {high_conversion_occurrences}, name: 'High > 75%' }},\n",
    "        {{ value: {moderate_conversion_occurrences}, name: 'Medium [50% - 75%]' }},\n",
    "        {{ value: {low_conversion_occurrences}, name: 'Low < 50%' }}\n",
    "      ]\n",
    "    }}\n",
    "  ]\n",
    "}};      \n",
    "\"\"\""
   ]
  },
  {
   "cell_type": "code",
   "execution_count": 118,
   "metadata": {},
   "outputs": [
    {
     "name": "stdout",
     "output_type": "stream",
     "text": [
      "2023-12-14 20:50 | INFO | free_echarts added to the task pool\n"
     ]
    }
   ],
   "source": [
    "s.plt.free_echarts(\n",
    "    raw_options=doughnut_chart_data,\n",
    "    order=11, cols_size=5, rows_size=2\n",
    ")"
   ]
  },
  {
   "cell_type": "markdown",
   "metadata": {},
   "source": [
    "### Feature Importance"
   ]
  },
  {
   "cell_type": "code",
   "execution_count": 119,
   "metadata": {},
   "outputs": [],
   "source": [
    "feature_importance = pd.DataFrame({\n",
    "    'Feature': dv.feature_names_,\n",
    "    'Importance (%)': clf.feature_importances_[0]\n",
    "})"
   ]
  },
  {
   "cell_type": "code",
   "execution_count": 120,
   "metadata": {},
   "outputs": [
    {
     "name": "stdout",
     "output_type": "stream",
     "text": [
      "2023-12-14 20:50 | INFO | bar_chart added to the task pool\n"
     ]
    }
   ],
   "source": [
    "s.plt.bar(\n",
    "    data=feature_importance.sort_values('Importance (%)', ascending=False)[:10],\n",
    "    x='Feature', y=['Importance (%)'], order=12, rows_size=2, cols_size=7\n",
    ")"
   ]
  },
  {
   "cell_type": "markdown",
   "metadata": {},
   "source": [
    "### Next Best Product"
   ]
  },
  {
   "cell_type": "code",
   "execution_count": 121,
   "metadata": {},
   "outputs": [
    {
     "name": "stdout",
     "output_type": "stream",
     "text": [
      "2023-12-14 20:50 | INFO | html added to the task pool\n"
     ]
    }
   ],
   "source": [
    "next_best_product_header_html = (\n",
    "    '<div style=\"width:100%; height:90px; \"><h4>Next best product prediction</h4>'\n",
    "    '<p>Products with a high probability of conversion for each lead</p></div>'\n",
    ")\n",
    "s.plt.html(html=next_best_product_header_html, order=13)"
   ]
  },
  {
   "cell_type": "code",
   "execution_count": 122,
   "metadata": {},
   "outputs": [],
   "source": [
    "product_recommendation_indicators = [\n",
    "    {\n",
    "        \"color\": \"warning\",\n",
    "        \"backgroundImage\": \"https://img.rawpixel.com/s3fs-private/rawpixel_images/website_content/freerangepexels00938-image-kwvx0t9j.jpg?w=800&dpr=1&fit=default&crop=default&q=65&vib=3&con=3&usm=15&bg=F4F4F3&ixlib=js-2.2.1&s=c1efe8c454d88010fe6ff98c8746397d\",\n",
    "        \"variant\": \"outlined\", \"description\": \"\", \"title\": \"Autos (# prospects)\",\n",
    "        \"align\": \"left\", \"value\": int(len(test_prediction) * 0.4)\n",
    "    },\n",
    "    {\n",
    "        \"color\": \"warning\", \"backgroundImage\": \"https://cotizator.com/wp-content/uploads/2020/06/imagen.png\",\n",
    "        \"variant\": \"outlined\", \"description\": \"\", \"title\": \"New life (# prospects)\",\n",
    "        \"align\": \"left\", \"value\": int(len(test_prediction) * 0.3)\n",
    "    },\n",
    "    {\n",
    "        \"color\": \"warning\",\n",
    "        \"backgroundImage\": \"https://i.ibb.co/Vw4f63j/SALUD-P-BLICA-Y-GESTI-N-SANITARIA-2.jpg\",\n",
    "        \"variant\": \"outlined\", \"description\": \"\", \"title\": \"Health (# prospects)\",\n",
    "        \"align\": \"left\", \"value\": int(len(test_prediction) * 0.2)\n",
    "    }\n",
    "]"
   ]
  },
  {
   "cell_type": "code",
   "execution_count": 123,
   "metadata": {},
   "outputs": [
    {
     "name": "stdout",
     "output_type": "stream",
     "text": [
      "2023-12-14 20:50 | INFO | Starting execution: \u001b[4mindicator\u001b[0m\n",
      "2023-12-14 20:50 | INFO | create indicator added to the task pool\n",
      "2023-12-14 20:50 | INFO | create indicator added to the task pool\n",
      "2023-12-14 20:50 | INFO | create indicator added to the task pool\n",
      "2023-12-14 20:50 | INFO | Finished execution: \u001b[4mindicator\u001b[0m, elapsed time: 9.85 ms\n"
     ]
    },
    {
     "data": {
      "text/plain": [
       "17"
      ]
     },
     "execution_count": 123,
     "metadata": {},
     "output_type": "execute_result"
    }
   ],
   "source": [
    "s.plt.indicator(                                   \n",
    "    data=product_recommendation_indicators, order=14,        \n",
    "    value='value', header='title', align='align', color='color',\n",
    "    variant='variant', background_image='backgroundImage',      \n",
    ")        "
   ]
  },
  {
   "cell_type": "code",
   "execution_count": 124,
   "metadata": {},
   "outputs": [],
   "source": [
    "product_recommendation_table = binary_prediction_table[['Lead ID', 'Probability', 'Lead Scoring']].copy(deep=True)\n",
    "\n",
    "product_recommendation_table['Next Best Product'] = \\\n",
    "    [f\"{['Autos', 'New life', 'Health', 'House'][np.random.choice([0, 1, 2, 3], p=[0.4, 0.3, 0.2, 0.1])]} \" \\\n",
    "     f\"({random.randint(1, 100)}%)\"\n",
    "     for i in range(len(product_recommendation_table))]\n"
   ]
  },
  {
   "cell_type": "code",
   "execution_count": 125,
   "metadata": {},
   "outputs": [
    {
     "name": "stdout",
     "output_type": "stream",
     "text": [
      "2023-12-14 20:50 | INFO | table added to the task pool\n"
     ]
    }
   ],
   "source": [
    "label_columns = get_label_columns(product_recommendation_table)\n",
    "s.plt.table(                                                     \n",
    "    data=product_recommendation_table[:200], order=17,                     \n",
    "    categorical_columns=['Lead Scoring'], label_columns=label_columns,        \n",
    "    columns_options={                                                         \n",
    "        'Lead ID': {'width': 360},                                            \n",
    "        'Lead Scoring': {'width': 360},                                       \n",
    "        'Probability': {'width': 360},                                        \n",
    "        'Next Best Product': {'width': 360},                                  \n",
    "    }                                                                         \n",
    ")                                                                             "
   ]
  },
  {
   "cell_type": "markdown",
   "metadata": {},
   "source": [
    "### Execute all tasks"
   ]
  },
  {
   "cell_type": "code",
   "execution_count": 126,
   "metadata": {},
   "outputs": [
    {
     "name": "stdout",
     "output_type": "stream",
     "text": [
      "2023-12-14 20:50 | INFO | Executing task pool\n",
      "2023-12-14 20:50 | INFO | Starting execution: \u001b[4mhorizontal_bar_chart\u001b[0m\n",
      "2023-12-14 20:50 | INFO | Starting execution: \u001b[4mhtml\u001b[0m\n",
      "2023-12-14 20:50 | INFO | Starting execution: \u001b[4mtable\u001b[0m\n",
      "2023-12-14 20:50 | INFO | Starting execution: \u001b[4mhtml\u001b[0m\n",
      "2023-12-14 20:50 | INFO | Starting execution: \u001b[4mhtml\u001b[0m\n",
      "2023-12-14 20:50 | INFO | Starting execution: \u001b[4mfree_echarts\u001b[0m\n",
      "2023-12-14 20:50 | INFO | Starting execution: \u001b[4mbar_chart\u001b[0m\n",
      "2023-12-14 20:50 | INFO | Starting execution: \u001b[4mhtml\u001b[0m\n",
      "2023-12-14 20:50 | INFO | Starting execution: \u001b[4mcreate indicator\u001b[0m\n",
      "2023-12-14 20:50 | INFO | Starting execution: \u001b[4mcreate indicator\u001b[0m\n",
      "2023-12-14 20:50 | INFO | Starting execution: \u001b[4mcreate indicator\u001b[0m\n",
      "2023-12-14 20:50 | INFO | Starting execution: \u001b[4mtable\u001b[0m\n",
      "2023-12-14 20:50 | INFO | Created HTML at 9 with id b9192bfb-218d-4a71-bd7e-773b122e252c\n",
      "2023-12-14 20:50 | INFO | Finished execution: \u001b[4mhtml\u001b[0m, elapsed time: 1159.07 ms\n",
      "2023-12-14 20:50 | INFO | Created EChart with id 0d7f9929-1275-498c-8ccb-ce4c15825ce6\n",
      "2023-12-14 20:50 | INFO | Created HTML at 10 with id ac22b7fe-3d53-4c1c-9d05-7c2e2ed869ea\n",
      "2023-12-14 20:50 | INFO | Finished execution: \u001b[4mhtml\u001b[0m, elapsed time: 1505.37 ms\n",
      "2023-12-14 20:50 | INFO | Created Indicator at 15 with id 3f742239-6045-49fe-8302-9d3ec6750565\n",
      "2023-12-14 20:50 | INFO | Finished execution: \u001b[4mcreate indicator\u001b[0m, elapsed time: 1580.22 ms\n",
      "2023-12-14 20:50 | INFO | Created Indicator at 14 with id b04dfdea-7e6c-4924-ac39-cb76b5eed633\n",
      "2023-12-14 20:50 | INFO | Finished execution: \u001b[4mcreate indicator\u001b[0m, elapsed time: 1846.03 ms\n",
      "2023-12-14 20:50 | INFO | Created Table with id fa6bfa4c-f402-4782-8d96-54677004d86b\n",
      "2023-12-14 20:50 | INFO | Created EChart with id 21120259-c1f4-4a82-a290-20392fe0e77b\n",
      "2023-12-14 20:50 | INFO | Created Indicator at 16 with id 1c0316c6-cc97-486e-8c66-78c54b194456\n",
      "2023-12-14 20:50 | INFO | Finished execution: \u001b[4mcreate indicator\u001b[0m, elapsed time: 2846.10 ms\n",
      "2023-12-14 20:50 | INFO | Created HTML at 7 with id d88b1f3e-253a-4145-9262-5e6b6a6b5925\n",
      "2023-12-14 20:50 | INFO | Finished execution: \u001b[4mhtml\u001b[0m, elapsed time: 3032.67 ms\n",
      "2023-12-14 20:50 | INFO | Created HTML at 13 with id efe91e9e-d437-4c19-84ec-e5d285b1781b\n",
      "2023-12-14 20:50 | INFO | Finished execution: \u001b[4mhtml\u001b[0m, elapsed time: 3504.35 ms\n",
      "2023-12-14 20:50 | INFO | Created EChart with id bcfb67b1-3309-4dbe-bc03-a779945fc7f0\n",
      "2023-12-14 20:50 | INFO | Created Table with id 35dd2127-6f5e-4798-b771-b0e668a88c6e\n",
      "2023-12-14 20:50 | INFO | Created data set with id cb0b8558-4743-460a-8671-18bdd746af3e and name fa6bfa4c-f402-4782-8d96-54677004d86b\n",
      "2023-12-14 20:50 | INFO | Created data set with id 224eb689-05be-459a-83c3-2bbbfe48e83d and name 21120259-c1f4-4a82-a290-20392fe0e77b\n"
     ]
    }
   ],
   "source": [
    "s.run()"
   ]
  }
 ],
 "metadata": {
  "kernelspec": {
   "display_name": "base",
   "language": "python",
   "name": "python3"
  },
  "language_info": {
   "codemirror_mode": {
    "name": "ipython",
    "version": 3
   },
   "file_extension": ".py",
   "mimetype": "text/x-python",
   "name": "python",
   "nbconvert_exporter": "python",
   "pygments_lexer": "ipython3",
   "version": "3.11.5"
  }
 },
 "nbformat": 4,
 "nbformat_minor": 2
}

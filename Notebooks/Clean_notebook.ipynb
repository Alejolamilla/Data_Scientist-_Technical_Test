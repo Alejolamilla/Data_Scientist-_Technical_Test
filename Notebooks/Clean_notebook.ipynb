{
 "cells": [
  {
   "cell_type": "code",
   "execution_count": null,
   "metadata": {},
   "outputs": [],
   "source": [
    "import pandas as pd\n",
    "import numpy as np"
   ]
  },
  {
   "cell_type": "code",
   "execution_count": null,
   "metadata": {},
   "outputs": [],
   "source": [
    "raw_leads = pd.read_csv(\"../Data/Raw/leads.csv\")\n",
    "raw_offers = pd.read_csv(\"../Data/Raw/offers.csv\")"
   ]
  },
  {
   "cell_type": "code",
   "execution_count": null,
   "metadata": {},
   "outputs": [],
   "source": [
    "# Converting string \"nan\" into null values sice they generated False Negatives values \n",
    "raw_leads[raw_leads[\"Id\"] == \"nan\"] = np.nan\n",
    "raw_offers[raw_offers[\"Id\"] == \"nan\"] = np.nan\n",
    "\n",
    "# Drop duplicated IDs\n",
    "raw_offers_no_duplicates = raw_offers.copy()\n",
    "raw_offers_no_duplicates[\"Id\"] = raw_offers[\"Id\"].drop_duplicates()\n",
    "\n",
    "# Creating a dataframe with out null values on ID column\n",
    "leads_no_ID_nan = raw_leads[raw_leads[\"Id\"].isna() == False]\n",
    "offers_no_ID_nan = raw_offers_no_duplicates[raw_offers_no_duplicates[\"Id\"].isna() == False]\n",
    "\n",
    "# Filling the null nada with a new category (Not_specified) \n",
    "leads_no_ID_nan.fillna(\"Not_Specified\", inplace=True)\n",
    "offers_no_ID_nan.fillna(\"Not_Specified\", inplace=True)"
   ]
  },
  {
   "cell_type": "code",
   "execution_count": null,
   "metadata": {},
   "outputs": [],
   "source": [
    "leads_df = leads_no_ID_nan\n",
    "offers_df = offers_no_ID_nan"
   ]
  },
  {
   "cell_type": "code",
   "execution_count": null,
   "metadata": {},
   "outputs": [],
   "source": [
    "# Changing the type of variable of dates fields\n",
    "offers_df[\"Created Date\"] = pd.to_datetime(offers_df[\"Created Date\"])\n",
    "offers_df[\"Close Date\"] = pd.to_datetime(offers_df[\"Close Date\"])"
   ]
  },
  {
   "cell_type": "code",
   "execution_count": null,
   "metadata": {},
   "outputs": [],
   "source": [
    "# Create a new column to know how many days took the sales process\n",
    "offers_df[\"Days\"] = offers_df[\"Close Date\"] - offers_df[\"Created Date\"]\n",
    "\n",
    "# Creating a column to know if there was applied a discount or not\n",
    "offers_df[\"Discount\"] = offers_df[\"Discount code\"] == \"Not_Specified\""
   ]
  },
  {
   "cell_type": "code",
   "execution_count": null,
   "metadata": {},
   "outputs": [],
   "source": [
    "# Transforms the converted variable to bool\n",
    "leads_df.Converted = leads_df.Converted.astype('bool')\n",
    "\n",
    "# Removing some unnecessary columns for the algorythm like name or reason why was discarded \n",
    "# Discarded reason is a value that is given after know that the person was not converted it wont be an input for this model\n",
    "leads_reduced = leads_df.drop([\"First Name\", \"Discarded/Nurturing Reason\"], axis=1)"
   ]
  }
 ],
 "metadata": {
  "language_info": {
   "name": "python"
  }
 },
 "nbformat": 4,
 "nbformat_minor": 2
}

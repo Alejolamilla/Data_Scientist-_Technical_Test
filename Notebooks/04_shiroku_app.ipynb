{
 "cells": [
  {
   "cell_type": "code",
   "execution_count": 9,
   "metadata": {},
   "outputs": [],
   "source": [
    "import pandas as pd\n",
    "import shimoku_api_python as shimoku\n",
    "from dotenv import load_dotenv\n",
    "from os import getenv\n",
    "\n",
    "from sklearn.model_selection import train_test_split\n",
    "from sklearn.ensemble import RandomForestClassifier"
   ]
  },
  {
   "cell_type": "code",
   "execution_count": 10,
   "metadata": {},
   "outputs": [],
   "source": [
    "merge_df = pd.read_csv(\"../Data/Processed/merged_raw.csv\")\n",
    "raw_leads = pd.read_csv(\"../Data/Raw/leads.csv\")\n",
    "raw_offers = pd.read_csv(\"../Data/Raw/offers.csv\")\n",
    "merge_processed = pd.read_csv(\"../Data/Processed/merge_processed.csv\")"
   ]
  },
  {
   "cell_type": "code",
   "execution_count": 11,
   "metadata": {},
   "outputs": [
    {
     "name": "stdout",
     "output_type": "stream",
     "text": [
      "2023-12-16 00:49 | INFO | Starting execution: \u001b[4mset_workspace\u001b[0m\n"
     ]
    },
    {
     "name": "stdout",
     "output_type": "stream",
     "text": [
      "2023-12-16 00:49 | INFO | Finished execution: \u001b[4mset_workspace\u001b[0m, elapsed time: 2712.42 ms\n",
      "2023-12-16 00:49 | INFO | Starting execution: \u001b[4mset_board\u001b[0m\n",
      "2023-12-16 00:49 | INFO | Retrieved board Technical Test with id 50ba2d95-72ea-40cb-bb9a-ce4da5da5fce\n",
      "2023-12-16 00:49 | INFO | Finished execution: \u001b[4mset_board\u001b[0m, elapsed time: 2238.40 ms\n",
      "2023-12-16 00:49 | INFO | Starting execution: \u001b[4mset_menu_path\u001b[0m\n",
      "2023-12-16 00:49 | INFO | Retrieved menu path catalog with id 228ba832-394c-47e4-9a75-93431aea96c2\n",
      "2023-12-16 00:49 | INFO | Finished execution: \u001b[4mset_menu_path\u001b[0m, elapsed time: 4007.11 ms\n"
     ]
    }
   ],
   "source": [
    "load_dotenv()\n",
    "\n",
    "api_key = getenv('ACCESS_TOKEN')\n",
    "universe_id = getenv('UNIVERSE_ID')\n",
    "workspace_id = getenv('WORKSPACE_ID')\n",
    "\n",
    "\n",
    "s = shimoku.Client(\n",
    "    access_token=api_key,\n",
    "    universe_id=universe_id,\n",
    "    async_execution=True,\n",
    "    verbosity='INFO',\n",
    ")\n",
    "s.set_workspace(workspace_id)\n",
    "s.set_board('Technical Test')\n",
    "s.set_menu_path(\"catalog\",\"Technical Test\")"
   ]
  },
  {
   "cell_type": "code",
   "execution_count": 12,
   "metadata": {},
   "outputs": [
    {
     "name": "stdout",
     "output_type": "stream",
     "text": [
      "2023-12-16 00:49 | INFO | Starting execution: \u001b[4mupdate_board\u001b[0m\n",
      "2023-12-16 00:49 | INFO | Retrieved board Technical Test with id 50ba2d95-72ea-40cb-bb9a-ce4da5da5fce\n",
      "2023-12-16 00:49 | INFO | Finished execution: \u001b[4mupdate_board\u001b[0m, elapsed time: 2206.07 ms\n"
     ]
    }
   ],
   "source": [
    "\n",
    "# Updates the specified board fields, if it exists\n",
    "s.boards.update_board(\n",
    "    name= \"Technical Test\",\n",
    "    is_public= True\n",
    ")"
   ]
  },
  {
   "cell_type": "code",
   "execution_count": 13,
   "metadata": {},
   "outputs": [
    {
     "name": "stdout",
     "output_type": "stream",
     "text": [
      "2023-12-16 00:49 | INFO | Starting execution: \u001b[4mclear_menu_path\u001b[0m\n",
      "2023-12-16 00:49 | INFO | Deleted 0 components\n",
      "2023-12-16 00:49 | INFO | Deleted 0 unused datasets from the menu path catalog\n",
      "2023-12-16 00:49 | INFO | Finished execution: \u001b[4mclear_menu_path\u001b[0m, elapsed time: 9843.97 ms\n"
     ]
    }
   ],
   "source": [
    "s.plt.clear_menu_path()"
   ]
  },
  {
   "cell_type": "markdown",
   "metadata": {},
   "source": [
    "## Dataframes to Plot"
   ]
  },
  {
   "cell_type": "code",
   "execution_count": 14,
   "metadata": {},
   "outputs": [],
   "source": [
    "data_list = [{\"Cols\": list(raw_offers.isna().sum().index), \"Null Values\": list(raw_offers.isna().sum().values), \"Non-null Values\": list(raw_offers.shape[0] - value for value in raw_offers.isna().sum().values)}]\n",
    "data = pd.concat([pd.DataFrame(d) for d in data_list], ignore_index=True)"
   ]
  },
  {
   "cell_type": "code",
   "execution_count": 15,
   "metadata": {},
   "outputs": [],
   "source": [
    "data2_list = [{\"Cols\": list(raw_leads.isna().sum().index), \"Null Values\": list(raw_leads.isna().sum().values), \"Non-null Values\": list(raw_leads.shape[0] - value for value in raw_leads.isna().sum().values)}]\n",
    "data2 = pd.concat([pd.DataFrame(d) for d in data2_list], ignore_index=True)"
   ]
  },
  {
   "cell_type": "code",
   "execution_count": 16,
   "metadata": {},
   "outputs": [],
   "source": [
    "merge_list = [{\"Cols\": list(merge_df.isna().sum().index), \"Null Values\": list(merge_df.isna().sum().values), \"Non-null Values\": list(merge_df.shape[0] - value for value in merge_df.isna().sum().values)}]\n",
    "merge_data = pd.concat([pd.DataFrame(d) for d in merge_list], ignore_index=True)"
   ]
  },
  {
   "cell_type": "markdown",
   "metadata": {},
   "source": [
    "## Header"
   ]
  },
  {
   "cell_type": "code",
   "execution_count": 17,
   "metadata": {},
   "outputs": [
    {
     "name": "stdout",
     "output_type": "stream",
     "text": [
      "2023-12-16 00:49 | INFO | html added to the task pool\n"
     ]
    }
   ],
   "source": [
    "prediction_header = (\n",
    "    \"<head>\"\n",
    "    \"<style>\"  # Styles title\n",
    "    \".component-title{height:auto; width:100%; \"\n",
    "    \"border-radius:16px; padding:16px;\"\n",
    "    \"display:flex; align-items:center;\"\n",
    "    \"background-color:var(--complementary-violet); color:var(--color-white);}\"\n",
    "    \"</style>\"\n",
    "    # Start icons style\n",
    "    \"<style>.big-icon-banner\"\n",
    "    \"{width:48px; height: 48px; display: flex;\"\n",
    "    \"margin-right: 16px;\"\n",
    "    \"justify-content: center;\"\n",
    "    \"align-items: center;\"\n",
    "    \"background-size: contain;\"\n",
    "    \"background-position: center;\"\n",
    "    \"background-repeat: no-repeat;\"\n",
    "    \"background-image: url('https://uploads-ssl.webflow.com/619f9fe98661d321dc3beec7/63594ccf3f311a98d72faff7_suite-customer-b.svg');}\"\n",
    "    \"</style>\"\n",
    "    # End icons style\n",
    "    \"<style>.base-white{color:var(--color-white);}</style>\"\n",
    "    \"</head>\"  # Styles subtitle\n",
    "    \"<div class='component-title'>\"\n",
    "    \"<div class='big-icon-banner'></div>\"\n",
    "    \"<div class='text-block'>\"\n",
    "    \"<h1>Thinking Process</h1>\"\n",
    "    \"<p class='base-white'>\"\n",
    "    \"And some considerations on the data and the problem by Alejandro Tovar</p>\"\n",
    "    \"</div>\"\n",
    "    \"</div>\"\n",
    ")\n",
    "s.plt.html(html=prediction_header, order=0)"
   ]
  },
  {
   "cell_type": "markdown",
   "metadata": {},
   "source": [
    "## Mising Values"
   ]
  },
  {
   "cell_type": "code",
   "execution_count": 18,
   "metadata": {},
   "outputs": [
    {
     "name": "stdout",
     "output_type": "stream",
     "text": [
      "2023-12-16 00:49 | INFO | html added to the task pool\n"
     ]
    }
   ],
   "source": [
    "distribution_header_html = (                                                                              \n",
    "    '<div style=\"width:100%; height:90px; \"><h3>Amount of Null Data for Each Dataset</h3>' \n",
    "    '''<p>Since there are some columns that have a high ratio of null data, I removed some columns (which didn’t have an ID, since those rows would be impossible to match between datasets),\n",
    "      and filled the values for other columns with either a categorical variable or a numerical one, depending on each variable.</p></div>'''\n",
    ")                                                                                                         \n",
    "s.plt.html(html=distribution_header_html, order=1, rows_size=5)"
   ]
  },
  {
   "cell_type": "code",
   "execution_count": 19,
   "metadata": {},
   "outputs": [
    {
     "name": "stdout",
     "output_type": "stream",
     "text": [
      "2023-12-16 00:49 | INFO | stacked_horizontal_bar_chart added to the task pool\n"
     ]
    }
   ],
   "source": [
    "s.plt.stacked_horizontal_bar(\n",
    "    data=data, x=\"Cols\",\n",
    "    title='Number of Null Values for Offers',\n",
    "    order=2,\n",
    "    cols_size=6,\n",
    "    rows_size=3,\n",
    "    option_modifications={\"color\": [\"var(--color-error)\", \"var(--color-success-light)\"]}\n",
    "    )"
   ]
  },
  {
   "cell_type": "code",
   "execution_count": 20,
   "metadata": {},
   "outputs": [
    {
     "name": "stdout",
     "output_type": "stream",
     "text": [
      "2023-12-16 00:49 | INFO | stacked_horizontal_bar_chart added to the task pool\n"
     ]
    }
   ],
   "source": [
    "s.plt.stacked_horizontal_bar(\n",
    "    data=data2, x=\"Cols\",\n",
    "    title='Number of Null Values for Leads',\n",
    "    order=3,\n",
    "    cols_size=6,\n",
    "    rows_size=3,\n",
    "    option_modifications={\"color\": [\"var(--color-error)\", \"var(--color-success-light)\"]}\n",
    "    )"
   ]
  },
  {
   "cell_type": "code",
   "execution_count": 21,
   "metadata": {},
   "outputs": [
    {
     "name": "stdout",
     "output_type": "stream",
     "text": [
      "2023-12-16 00:49 | INFO | stacked_horizontal_bar_chart added to the task pool\n"
     ]
    }
   ],
   "source": [
    "s.plt.stacked_horizontal_bar(\n",
    "    data=merge_data, x=\"Cols\",\n",
    "    title='Number of Null values for the Merged Dataframe',\n",
    "    order=4,\n",
    "    cols_size=12,\n",
    "    option_modifications={\"color\": [\"var(--color-error)\", \"var(--color-success-light)\"]}\n",
    "    )"
   ]
  },
  {
   "cell_type": "markdown",
   "metadata": {},
   "source": [
    "## Unbalanced Data"
   ]
  },
  {
   "cell_type": "code",
   "execution_count": 22,
   "metadata": {},
   "outputs": [
    {
     "name": "stdout",
     "output_type": "stream",
     "text": [
      "2023-12-16 00:49 | INFO | html added to the task pool\n"
     ]
    }
   ],
   "source": [
    "distribution_header_html = (            \n",
    "    '</br> </br>'                                                                  \n",
    "    '<div style=\"width:100%; height:90px; \"><h3>Data Balance</h3>' \n",
    "    '''<p>The data is unbalanced for some specific features. Knowing this, I will be able to use a technique later to handle this, such as resampling or SMOTE.</p></div>'''\n",
    ")                                                                                                         \n",
    "s.plt.html(html=distribution_header_html, order=5)  "
   ]
  },
  {
   "cell_type": "code",
   "execution_count": 23,
   "metadata": {},
   "outputs": [],
   "source": [
    "Use_case_data = merge_df[\"Use Case_y\"].value_counts()\n",
    "Use_case_df = pd.DataFrame()\n",
    "Use_case_df[\"label\"] = Use_case_data.index \n",
    "Use_case_df[\"value\"] = Use_case_data.values"
   ]
  },
  {
   "cell_type": "code",
   "execution_count": 24,
   "metadata": {},
   "outputs": [],
   "source": [
    "Pain_data = merge_df[\"Pain\"].value_counts()\n",
    "Pain_df = pd.DataFrame()\n",
    "Pain_df[\"label\"] = Pain_data.index\n",
    "Pain_df[\"value\"] = Pain_data.values"
   ]
  },
  {
   "cell_type": "code",
   "execution_count": 25,
   "metadata": {},
   "outputs": [
    {
     "name": "stdout",
     "output_type": "stream",
     "text": [
      "2023-12-16 00:49 | INFO | pie_chart added to the task pool\n"
     ]
    }
   ],
   "source": [
    "s.plt.pie(\n",
    "    data=Use_case_df, \n",
    "    names=\"label\", \n",
    "    values=\"value\",\n",
    "    order=6, \n",
    "    rows_size=2, \n",
    "    cols_size=6,\n",
    "    title= \"Distribution of Use Case Data\"\n",
    ")"
   ]
  },
  {
   "cell_type": "code",
   "execution_count": 26,
   "metadata": {},
   "outputs": [
    {
     "name": "stdout",
     "output_type": "stream",
     "text": [
      "2023-12-16 00:49 | INFO | pie_chart added to the task pool\n"
     ]
    }
   ],
   "source": [
    "s.plt.pie(\n",
    "    data=Pain_df, \n",
    "    names=\"label\", \n",
    "    values=\"value\",\n",
    "    order=7,\n",
    "    rows_size=2, \n",
    "    cols_size=6,\n",
    "    title= \"Distribution of Pain Data\"\n",
    ")"
   ]
  },
  {
   "cell_type": "markdown",
   "metadata": {},
   "source": [
    "## Data Enrichment"
   ]
  },
  {
   "cell_type": "code",
   "execution_count": 27,
   "metadata": {},
   "outputs": [
    {
     "name": "stdout",
     "output_type": "stream",
     "text": [
      "2023-12-16 00:49 | INFO | html added to the task pool\n"
     ]
    }
   ],
   "source": [
    "distribution_header_html = (     \n",
    "    '</br> </br>'\n",
    "    '<div style=\"width:100%; height:90px; \"><h3>Data Enrichment</h3>' \n",
    "    '''<p>In this step, some correlations were checked and the data was encoded. One hot encoding was applied to features with few categories,\n",
    "      and binary encoding was applied to features with several categories.</p>\n",
    "     <p>Additionally, some features were added and some unnecessary data and low-importance features were removed. For example,\n",
    "       the date columns were transformed into the number of days it took to close the deal, which is more relevant data. \n",
    "       There were also a couple of columns with a very high correlation with the target variable, and these were also removed.</p></div>'''\n",
    ")                                                                                                         \n",
    "s.plt.html(html=distribution_header_html, order=8, rows_size=9)  "
   ]
  },
  {
   "cell_type": "code",
   "execution_count": 28,
   "metadata": {},
   "outputs": [
    {
     "data": {
      "text/plain": [
       "int64     16\n",
       "bool      16\n",
       "object     2\n",
       "Name: count, dtype: int64"
      ]
     },
     "execution_count": 28,
     "metadata": {},
     "output_type": "execute_result"
    }
   ],
   "source": [
    "merge_processed.dtypes.value_counts()"
   ]
  },
  {
   "cell_type": "code",
   "execution_count": 29,
   "metadata": {},
   "outputs": [
    {
     "name": "stdout",
     "output_type": "stream",
     "text": [
      "2023-12-16 00:49 | INFO | Starting execution: \u001b[4mindicator\u001b[0m\n",
      "2023-12-16 00:49 | INFO | create indicator added to the task pool\n",
      "2023-12-16 00:49 | INFO | create indicator added to the task pool\n",
      "2023-12-16 00:49 | INFO | create indicator added to the task pool\n",
      "2023-12-16 00:49 | INFO | Finished execution: \u001b[4mindicator\u001b[0m, elapsed time: 32.76 ms\n",
      "2023-12-16 00:49 | INFO | Starting execution: \u001b[4mindicator\u001b[0m\n",
      "2023-12-16 00:49 | INFO | create indicator added to the task pool\n",
      "2023-12-16 00:49 | INFO | create indicator added to the task pool\n",
      "2023-12-16 00:49 | INFO | create indicator added to the task pool\n",
      "2023-12-16 00:49 | INFO | Finished execution: \u001b[4mindicator\u001b[0m, elapsed time: 26.82 ms\n"
     ]
    },
    {
     "data": {
      "text/plain": [
       "15"
      ]
     },
     "execution_count": 29,
     "metadata": {},
     "output_type": "execute_result"
    }
   ],
   "source": [
    "s.plt.indicator(\n",
    "    order=9, cols_size=9,\n",
    "    padding=\"0,0,0,2\",\n",
    "    data=[\n",
    "         {\n",
    "             \"description\": \"Feature Engineering\",\n",
    "             \"title\": \"\",\n",
    "             \"value\": \"Before\",\n",
    "             \"align\": \"center\",\n",
    "             \"color\": \"default\",\n",
    "             \"variant\": \"contained\"\n",
    "        },\n",
    "        {\n",
    "             \"description\": \"\",\n",
    "             \"title\": \"Features\",\n",
    "             \"value\": merge_df.shape[1],\n",
    "             \"align\": \"center\",\n",
    "             \"color\": \"default\"\n",
    "        },\n",
    "        {\n",
    "            \"description\": \"object | int64 | float64\",\n",
    "            \"title\": \"data types\",\n",
    "            \"value\": \"16  |  1  |  1  \",\n",
    "            \"color\": \"default\",\n",
    "\n",
    "        },\n",
    "    ],\n",
    ")\n",
    "s.plt.indicator(\n",
    "    order=12, cols_size=9,\n",
    "    padding=\"0,0,0,2\",\n",
    "    data=[\n",
    "         {\n",
    "             \"description\": \" Feature Engineering\",\n",
    "             \"title\": \"\",\n",
    "             \"value\": \"After\",\n",
    "             \"align\": \"center\",\n",
    "             \"color\": \"success\",\n",
    "             \"variant\": \"contained\"\n",
    "        },\n",
    "        {\n",
    "             \"description\": \"\",\n",
    "             \"title\": \"Features\",\n",
    "             \"value\": merge_processed.shape[1],\n",
    "             \"align\": \"center\",\n",
    "             \"color\": \"success\"\n",
    "        },\n",
    "        {\n",
    "            \"description\": \"object | int64 | bool\",\n",
    "            \"title\": \"data types\",\n",
    "            \"value\": \"2 | 15 | 16  \",\n",
    "            \"color\": \"success\",\n",
    "        },\n",
    "    ],\n",
    ")"
   ]
  },
  {
   "cell_type": "markdown",
   "metadata": {},
   "source": [
    "## Results"
   ]
  },
  {
   "cell_type": "code",
   "execution_count": 30,
   "metadata": {},
   "outputs": [],
   "source": [
    "merge_processed = merge_processed[merge_processed['Status'].isin(['Closed Lost', 'Closed Won'])]\n",
    "\n",
    "# Creating X and y variables\n",
    "X = merge_processed.drop([\"Status\"], axis=1)\n",
    "y = merge_processed[\"Status\"]\n",
    "\n",
    "# Creating training and test datasets\n",
    "X_train, X_test, y_train, y_test = train_test_split(X, y, test_size=0.2, random_state=42)\n",
    "\n",
    "X_test_id = X_test[\"Id\"]\n",
    "X_train.drop([\"Id\"], axis=1, inplace=True)\n",
    "X_test.drop([\"Id\"], axis=1, inplace=True)"
   ]
  },
  {
   "cell_type": "code",
   "execution_count": 31,
   "metadata": {},
   "outputs": [
    {
     "name": "stdout",
     "output_type": "stream",
     "text": [
      "Accuracy: 80.44%\n"
     ]
    }
   ],
   "source": [
    "from sklearn.metrics import accuracy_score\n",
    "\n",
    "\n",
    "# Create a Logistic Regression model\n",
    "model = RandomForestClassifier(n_estimators=200)\n",
    "model.fit(X_train, y_train)\n",
    "\n",
    "# Predict on the test data\n",
    "y_pred = model.predict(X_test)\n",
    "\n",
    "# Calculate the accuracy\n",
    "accuracy = accuracy_score(y_test, y_pred)\n",
    "accuracy_str = str(accuracy) + \"%\"\n",
    "print(f'Accuracy: {accuracy*100:.2f}%')"
   ]
  },
  {
   "cell_type": "code",
   "execution_count": 32,
   "metadata": {},
   "outputs": [
    {
     "name": "stdout",
     "output_type": "stream",
     "text": [
      "2023-12-16 00:49 | INFO | html added to the task pool\n"
     ]
    }
   ],
   "source": [
    "distribution_header_html = (  \n",
    "        '</br> </br>'\n",
    "        '<div style=\"width:100%; height:90px; \"><h3>Results of the Algorithm</h3>' \n",
    "        '''<p>The predictions of the algorithm are on the column \"Predicted\" and the true values are on the column \"Real\", the column \"Match\" indicates if the predicted and real value match or not.</p></div>'''\n",
    ")                                                                                                         \n",
    "s.plt.html(html=distribution_header_html, order=15)  "
   ]
  },
  {
   "cell_type": "code",
   "execution_count": 33,
   "metadata": {},
   "outputs": [],
   "source": [
    "results_df = pd.DataFrame()\n",
    "results_df[\"Id\"] = X_test_id\n",
    "results_df[\"Predicted\"] = y_pred\n",
    "results_df[\"Real\"] = y_test\n",
    "results_df[\"Match\"] = results_df[\"Predicted\"] == results_df[\"Real\"]"
   ]
  },
  {
   "cell_type": "code",
   "execution_count": 34,
   "metadata": {},
   "outputs": [
    {
     "name": "stdout",
     "output_type": "stream",
     "text": [
      "2023-12-16 00:49 | INFO | table added to the task pool\n"
     ]
    }
   ],
   "source": [
    "s.plt.table(\n",
    "    data=results_df, order=16, cols_size=6,\n",
    "    label_columns={\n",
    "        \"Match\":{\n",
    "            \"True\": \"active\",\n",
    "            \"False\": \"red\",\n",
    "        },\n",
    "    },\n",
    ")"
   ]
  },
  {
   "cell_type": "code",
   "execution_count": 35,
   "metadata": {},
   "outputs": [
    {
     "name": "stdout",
     "output_type": "stream",
     "text": [
      "2023-12-16 00:49 | INFO | Starting execution: \u001b[4mindicator\u001b[0m\n",
      "2023-12-16 00:49 | INFO | create indicator added to the task pool\n",
      "2023-12-16 00:49 | INFO | create indicator added to the task pool\n",
      "2023-12-16 00:49 | INFO | Finished execution: \u001b[4mindicator\u001b[0m, elapsed time: 9.45 ms\n"
     ]
    },
    {
     "data": {
      "text/plain": [
       "19"
      ]
     },
     "execution_count": 35,
     "metadata": {},
     "output_type": "execute_result"
    }
   ],
   "source": [
    "s.plt.indicator(\n",
    "    order=17, cols_size=9,\n",
    "    padding=\"0,0,0,0\",\n",
    "    data=[\n",
    "         {\n",
    "             \"description\": \"of the model\",\n",
    "             \"title\": \"approximate\",\n",
    "             \"value\": \"Accuracy\",\n",
    "             \"align\": \"center\",\n",
    "             \"color\": \"success\",\n",
    "             \"variant\": \"contained\"\n",
    "        },\n",
    "        {\n",
    "             \"description\": \"\",\n",
    "             \"title\": \"\",\n",
    "             \"value\": f'{accuracy*100:.2f}%',\n",
    "             \"align\": \"center\",\n",
    "             \"color\": \"success\",\n",
    "        },\n",
    "    ],\n",
    ")"
   ]
  },
  {
   "cell_type": "markdown",
   "metadata": {},
   "source": [
    "## Run the server"
   ]
  },
  {
   "cell_type": "code",
   "execution_count": 36,
   "metadata": {},
   "outputs": [
    {
     "name": "stdout",
     "output_type": "stream",
     "text": [
      "2023-12-16 00:49 | INFO | Executing task pool\n",
      "2023-12-16 00:49 | INFO | Starting execution: \u001b[4mhtml\u001b[0m\n",
      "2023-12-16 00:49 | INFO | Starting execution: \u001b[4mhtml\u001b[0m\n",
      "2023-12-16 00:49 | INFO | Starting execution: \u001b[4mstacked_horizontal_bar_chart\u001b[0m\n",
      "2023-12-16 00:49 | INFO | Starting execution: \u001b[4mstacked_horizontal_bar_chart\u001b[0m\n",
      "2023-12-16 00:49 | INFO | Starting execution: \u001b[4mstacked_horizontal_bar_chart\u001b[0m\n",
      "2023-12-16 00:49 | INFO | Starting execution: \u001b[4mhtml\u001b[0m\n",
      "2023-12-16 00:49 | INFO | Starting execution: \u001b[4mpie_chart\u001b[0m\n",
      "2023-12-16 00:49 | INFO | Starting execution: \u001b[4mpie_chart\u001b[0m\n",
      "2023-12-16 00:49 | INFO | Starting execution: \u001b[4mhtml\u001b[0m\n",
      "2023-12-16 00:49 | INFO | Starting execution: \u001b[4mcreate indicator\u001b[0m\n",
      "2023-12-16 00:49 | INFO | Starting execution: \u001b[4mcreate indicator\u001b[0m\n",
      "2023-12-16 00:49 | INFO | Starting execution: \u001b[4mcreate indicator\u001b[0m\n",
      "2023-12-16 00:49 | INFO | Starting execution: \u001b[4mcreate indicator\u001b[0m\n",
      "2023-12-16 00:49 | INFO | Starting execution: \u001b[4mcreate indicator\u001b[0m\n",
      "2023-12-16 00:49 | INFO | Starting execution: \u001b[4mcreate indicator\u001b[0m\n",
      "2023-12-16 00:49 | INFO | Starting execution: \u001b[4mhtml\u001b[0m\n",
      "2023-12-16 00:49 | INFO | Starting execution: \u001b[4mtable\u001b[0m\n",
      "2023-12-16 00:49 | INFO | Starting execution: \u001b[4mcreate indicator\u001b[0m\n",
      "2023-12-16 00:49 | INFO | Starting execution: \u001b[4mcreate indicator\u001b[0m\n",
      "2023-12-16 00:49 | INFO | Created EChart with id 742b6d02-9ce6-4c27-a9de-b4b4f4a308ad\n",
      "2023-12-16 00:49 | INFO | Created EChart with id b8a34043-03a0-4e2b-b897-9b1758bcb42a\n",
      "2023-12-16 00:49 | INFO | Created HTML at Technical Test_5 with id 3932c8c0-d6ab-4269-9f7b-00fea3f50541\n",
      "2023-12-16 00:49 | INFO | Finished execution: \u001b[4mhtml\u001b[0m, elapsed time: 1631.37 ms\n",
      "2023-12-16 00:49 | INFO | Created HTML at Technical Test_0 with id 412457fb-dcf3-49e8-b124-b6ae046fafaf\n",
      "2023-12-16 00:49 | INFO | Finished execution: \u001b[4mhtml\u001b[0m, elapsed time: 1898.27 ms\n",
      "2023-12-16 00:49 | INFO | Created EChart with id 54fc03b3-e04e-454e-b12a-96a4045093b5\n",
      "2023-12-16 00:49 | INFO | Created Indicator at Technical Test_9 with id af6c61a7-14dd-46f1-b49b-537f8c19cdcf\n",
      "2023-12-16 00:49 | INFO | Finished execution: \u001b[4mcreate indicator\u001b[0m, elapsed time: 1969.61 ms\n",
      "2023-12-16 00:49 | INFO | Created EChart with id 20b62b31-3f90-42ef-b6cf-2232ca314846\n",
      "2023-12-16 00:49 | INFO | Created HTML at Technical Test_1 with id 7d59c10e-df46-4dc6-a41c-737b3c99fd4c\n",
      "2023-12-16 00:49 | INFO | Finished execution: \u001b[4mhtml\u001b[0m, elapsed time: 2113.24 ms\n",
      "2023-12-16 00:49 | INFO | Created HTML at Technical Test_8 with id 771dd0c5-c752-495e-aa23-208ea913994d\n",
      "2023-12-16 00:49 | INFO | Finished execution: \u001b[4mhtml\u001b[0m, elapsed time: 2220.33 ms\n",
      "2023-12-16 00:49 | INFO | Created EChart with id c6b6afd7-f7a4-4c20-acb0-287335e8926f\n",
      "2023-12-16 00:49 | INFO | Created Indicator at Technical Test_10 with id 7dbf625a-ce0c-4dd8-ae43-5eb505dbb8aa\n",
      "2023-12-16 00:49 | INFO | Finished execution: \u001b[4mcreate indicator\u001b[0m, elapsed time: 3161.38 ms\n",
      "2023-12-16 00:49 | INFO | Created Indicator at Technical Test_13 with id 516ef523-4d8f-4766-96a6-c7c33952afac\n",
      "2023-12-16 00:49 | INFO | Finished execution: \u001b[4mcreate indicator\u001b[0m, elapsed time: 3220.03 ms\n",
      "2023-12-16 00:49 | INFO | Created Indicator at Technical Test_11 with id 6e3f45f6-7b73-4acd-ab07-93f8fc88dff7\n",
      "2023-12-16 00:49 | INFO | Finished execution: \u001b[4mcreate indicator\u001b[0m, elapsed time: 3345.46 ms\n",
      "2023-12-16 00:49 | INFO | Created Indicator at Technical Test_17 with id ef40ca28-bde8-43ba-acee-a2bbef7dde1a\n",
      "2023-12-16 00:49 | INFO | Finished execution: \u001b[4mcreate indicator\u001b[0m, elapsed time: 3493.41 ms\n",
      "2023-12-16 00:49 | INFO | Created Indicator at Technical Test_12 with id 0c7bfbed-cbd6-48fd-9848-1cdcfed21418\n",
      "2023-12-16 00:49 | INFO | Finished execution: \u001b[4mcreate indicator\u001b[0m, elapsed time: 3586.72 ms\n",
      "2023-12-16 00:49 | INFO | Created Indicator at Technical Test_18 with id d20b0034-df28-4874-90d8-0a23c133ddf9\n",
      "2023-12-16 00:49 | INFO | Finished execution: \u001b[4mcreate indicator\u001b[0m, elapsed time: 3730.10 ms\n",
      "2023-12-16 00:49 | INFO | Created HTML at Technical Test_15 with id 679636a4-bb0c-4369-a3a5-7ffad2b1a614\n",
      "2023-12-16 00:49 | INFO | Finished execution: \u001b[4mhtml\u001b[0m, elapsed time: 3756.60 ms\n",
      "2023-12-16 00:49 | INFO | Created Indicator at Technical Test_14 with id 0aa6239e-2be9-4c45-bc02-106c73159abd\n",
      "2023-12-16 00:49 | INFO | Finished execution: \u001b[4mcreate indicator\u001b[0m, elapsed time: 3943.24 ms\n",
      "2023-12-16 00:49 | INFO | Created Table with id 20415355-435c-40c1-b09c-a562b24680c4\n",
      "2023-12-16 00:49 | INFO | Created data set with id 8b67fdb5-b533-40d5-ba49-ffe383913ac1 and name 742b6d02-9ce6-4c27-a9de-b4b4f4a308ad\n",
      "2023-12-16 00:49 | INFO | Created data set with id c6ac5b5b-d0c9-4890-a5c5-0cfad818f1e0 and name b8a34043-03a0-4e2b-b897-9b1758bcb42a\n",
      "2023-12-16 00:49 | INFO | Created data set with id d4142dd8-33e7-40d2-8255-3fb627420895 and name 20b62b31-3f90-42ef-b6cf-2232ca314846\n",
      "2023-12-16 00:49 | INFO | Created data set with id f94f06e4-67e6-4a78-895c-7c7d9d618a61 and name c6b6afd7-f7a4-4c20-acb0-287335e8926f\n",
      "2023-12-16 00:49 | INFO | Created data set with id c2fb3b21-9b87-414e-bdc1-1ad177a0d618 and name 54fc03b3-e04e-454e-b12a-96a4045093b5\n",
      "2023-12-16 00:49 | INFO | Deleted 0 component data set links from component at Technical Test_7\n",
      "2023-12-16 00:49 | INFO | Deleted 0 component data set links from component at Technical Test_6\n",
      "2023-12-16 00:49 | INFO | Created data set with id 6a141749-ef87-4dea-934f-788b02f21067 and name 20415355-435c-40c1-b09c-a562b24680c4\n",
      "2023-12-16 00:49 | INFO | Deleted 0 component data set links from component at Technical Test_4\n",
      "2023-12-16 00:49 | INFO | Deleted 0 component data set links from component at Technical Test_2\n",
      "2023-12-16 00:49 | INFO | Deleted 0 component data set links from component at Technical Test_3\n",
      "2023-12-16 00:49 | INFO | Created 1 component data set links for component Technical Test_6\n",
      "2023-12-16 00:49 | INFO | Created 1 component data set links for component Technical Test_7\n",
      "2023-12-16 00:49 | INFO | Created 3 component data set links for component Technical Test_4\n",
      "2023-12-16 00:49 | INFO | Created 3 component data set links for component Technical Test_2\n",
      "2023-12-16 00:49 | INFO | Updated EChart at Technical Test_6\n",
      "2023-12-16 00:49 | INFO | Finished execution: \u001b[4mpie_chart\u001b[0m, elapsed time: 8959.32 ms\n",
      "2023-12-16 00:49 | INFO | Created 3 component data set links for component Technical Test_3\n",
      "2023-12-16 00:49 | INFO | Updated EChart at Technical Test_7\n",
      "2023-12-16 00:49 | INFO | Finished execution: \u001b[4mpie_chart\u001b[0m, elapsed time: 9297.41 ms\n",
      "2023-12-16 00:49 | INFO | Updated EChart at Technical Test_2\n",
      "2023-12-16 00:49 | INFO | Finished execution: \u001b[4mstacked_horizontal_bar_chart\u001b[0m, elapsed time: 9573.23 ms\n",
      "2023-12-16 00:49 | INFO | Updated EChart at Technical Test_4\n",
      "2023-12-16 00:49 | INFO | Finished execution: \u001b[4mstacked_horizontal_bar_chart\u001b[0m, elapsed time: 9808.69 ms\n",
      "2023-12-16 00:49 | INFO | Updated Table at Technical Test_16\n",
      "2023-12-16 00:49 | INFO | Finished execution: \u001b[4mtable\u001b[0m, elapsed time: 9920.17 ms\n",
      "2023-12-16 00:49 | INFO | Updated EChart at Technical Test_3\n",
      "2023-12-16 00:49 | INFO | Finished execution: \u001b[4mstacked_horizontal_bar_chart\u001b[0m, elapsed time: 10255.15 ms\n"
     ]
    }
   ],
   "source": [
    "s.run()"
   ]
  },
  {
   "cell_type": "code",
   "execution_count": null,
   "metadata": {},
   "outputs": [],
   "source": []
  }
 ],
 "metadata": {
  "kernelspec": {
   "display_name": "myenv",
   "language": "python",
   "name": "python3"
  },
  "language_info": {
   "codemirror_mode": {
    "name": "ipython",
    "version": 3
   },
   "file_extension": ".py",
   "mimetype": "text/x-python",
   "name": "python",
   "nbconvert_exporter": "python",
   "pygments_lexer": "ipython3",
   "version": "3.11.5"
  }
 },
 "nbformat": 4,
 "nbformat_minor": 2
}

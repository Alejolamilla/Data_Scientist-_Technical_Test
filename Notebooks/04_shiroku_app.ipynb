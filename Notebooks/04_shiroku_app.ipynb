{
 "cells": [
  {
   "cell_type": "code",
   "execution_count": 98,
   "metadata": {},
   "outputs": [],
   "source": [
    "import pandas as pd\n",
    "import shimoku_api_python as shimoku\n",
    "\n",
    "from sklearn.model_selection import train_test_split\n",
    "from sklearn.ensemble import RandomForestClassifier"
   ]
  },
  {
   "cell_type": "code",
   "execution_count": 99,
   "metadata": {},
   "outputs": [],
   "source": [
    "merge_df = pd.read_csv(\"../Data/Processed/merged_raw.csv\")\n",
    "raw_leads = pd.read_csv(\"../Data/Raw/leads.csv\")\n",
    "raw_offers = pd.read_csv(\"../Data/Raw/offers.csv\")\n",
    "merge_processed = pd.read_csv(\"../Data/Processed/merge_processed.csv\")"
   ]
  },
  {
   "cell_type": "code",
   "execution_count": 100,
   "metadata": {},
   "outputs": [
    {
     "name": "stdout",
     "output_type": "stream",
     "text": [
      "2023-12-15 23:45 | INFO | Starting execution: \u001b[4mset_workspace\u001b[0m\n",
      "2023-12-15 23:45 | INFO | Finished execution: \u001b[4mset_workspace\u001b[0m, elapsed time: 888.81 ms\n",
      "2023-12-15 23:45 | INFO | Starting execution: \u001b[4mset_board\u001b[0m\n",
      "2023-12-15 23:45 | INFO | Retrieved board Technical Test with id 50ba2d95-72ea-40cb-bb9a-ce4da5da5fce\n",
      "2023-12-15 23:45 | INFO | Finished execution: \u001b[4mset_board\u001b[0m, elapsed time: 801.02 ms\n",
      "2023-12-15 23:45 | INFO | Starting execution: \u001b[4mset_menu_path\u001b[0m\n",
      "2023-12-15 23:45 | INFO | Retrieved menu path catalog with id 228ba832-394c-47e4-9a75-93431aea96c2\n",
      "2023-12-15 23:45 | INFO | Finished execution: \u001b[4mset_menu_path\u001b[0m, elapsed time: 1803.29 ms\n"
     ]
    }
   ],
   "source": [
    "api_key: str = \"acbc56dd-601e-44e6-8748-d1c5fd0c0695\"\n",
    "universe_id: str = \"c2edae80-3e21-4f15-8c51-c394b34475cf\"\n",
    "workspace_id: str = \"e96f1077-ae84-4068-9333-457b5d65ec37\"\n",
    "\n",
    "\n",
    "s = shimoku.Client(\n",
    "    access_token=api_key,\n",
    "    universe_id=universe_id,\n",
    "    async_execution=True,\n",
    "    verbosity='INFO',\n",
    ")\n",
    "s.set_workspace(workspace_id)\n",
    "s.set_board('Technical Test')\n",
    "s.set_menu_path(\"catalog\",\"Technical Test\")"
   ]
  },
  {
   "cell_type": "code",
   "execution_count": 101,
   "metadata": {},
   "outputs": [
    {
     "name": "stdout",
     "output_type": "stream",
     "text": [
      "2023-12-15 23:45 | INFO | Starting execution: \u001b[4mupdate_board\u001b[0m\n",
      "2023-12-15 23:45 | INFO | Retrieved board Technical Test with id 50ba2d95-72ea-40cb-bb9a-ce4da5da5fce\n",
      "2023-12-15 23:45 | INFO | Finished execution: \u001b[4mupdate_board\u001b[0m, elapsed time: 839.97 ms\n"
     ]
    }
   ],
   "source": [
    "\n",
    "# Updates the specified board fields, if it exists\n",
    "s.boards.update_board(\n",
    "    name= \"Technical Test\",\n",
    "    is_public= True\n",
    ")"
   ]
  },
  {
   "cell_type": "code",
   "execution_count": 102,
   "metadata": {},
   "outputs": [
    {
     "name": "stdout",
     "output_type": "stream",
     "text": [
      "2023-12-15 23:45 | INFO | Starting execution: \u001b[4mclear_menu_path\u001b[0m\n",
      "2023-12-15 23:45 | INFO | Deleted 0 components\n",
      "2023-12-15 23:46 | INFO | Deleted 0 unused datasets from the menu path catalog\n",
      "2023-12-15 23:46 | INFO | Finished execution: \u001b[4mclear_menu_path\u001b[0m, elapsed time: 5004.67 ms\n"
     ]
    }
   ],
   "source": [
    "s.plt.clear_menu_path()"
   ]
  },
  {
   "cell_type": "markdown",
   "metadata": {},
   "source": [
    "## Dataframes to Plot"
   ]
  },
  {
   "cell_type": "code",
   "execution_count": 103,
   "metadata": {},
   "outputs": [],
   "source": [
    "data_list = [{\"Cols\": list(raw_offers.isna().sum().index), \"Null Values\": list(raw_offers.isna().sum().values), \"Non-null Values\": list(raw_offers.shape[0] - value for value in raw_offers.isna().sum().values)}]\n",
    "data = pd.concat([pd.DataFrame(d) for d in data_list], ignore_index=True)"
   ]
  },
  {
   "cell_type": "code",
   "execution_count": 104,
   "metadata": {},
   "outputs": [],
   "source": [
    "data2_list = [{\"Cols\": list(raw_leads.isna().sum().index), \"Null Values\": list(raw_leads.isna().sum().values), \"Non-null Values\": list(raw_leads.shape[0] - value for value in raw_leads.isna().sum().values)}]\n",
    "data2 = pd.concat([pd.DataFrame(d) for d in data2_list], ignore_index=True)"
   ]
  },
  {
   "cell_type": "code",
   "execution_count": 105,
   "metadata": {},
   "outputs": [],
   "source": [
    "merge_list = [{\"Cols\": list(merge_df.isna().sum().index), \"Null Values\": list(merge_df.isna().sum().values), \"Non-null Values\": list(merge_df.shape[0] - value for value in merge_df.isna().sum().values)}]\n",
    "merge_data = pd.concat([pd.DataFrame(d) for d in merge_list], ignore_index=True)"
   ]
  },
  {
   "cell_type": "markdown",
   "metadata": {},
   "source": [
    "## Header"
   ]
  },
  {
   "cell_type": "code",
   "execution_count": 106,
   "metadata": {},
   "outputs": [
    {
     "name": "stdout",
     "output_type": "stream",
     "text": [
      "2023-12-15 23:46 | INFO | html added to the task pool\n"
     ]
    }
   ],
   "source": [
    "prediction_header = (\n",
    "    \"<head>\"\n",
    "    \"<style>\"  # Styles title\n",
    "    \".component-title{height:auto; width:100%; \"\n",
    "    \"border-radius:16px; padding:16px;\"\n",
    "    \"display:flex; align-items:center;\"\n",
    "    \"background-color:var(--complementary-violet); color:var(--color-white);}\"\n",
    "    \"</style>\"\n",
    "    # Start icons style\n",
    "    \"<style>.big-icon-banner\"\n",
    "    \"{width:48px; height: 48px; display: flex;\"\n",
    "    \"margin-right: 16px;\"\n",
    "    \"justify-content: center;\"\n",
    "    \"align-items: center;\"\n",
    "    \"background-size: contain;\"\n",
    "    \"background-position: center;\"\n",
    "    \"background-repeat: no-repeat;\"\n",
    "    \"background-image: url('https://uploads-ssl.webflow.com/619f9fe98661d321dc3beec7/63594ccf3f311a98d72faff7_suite-customer-b.svg');}\"\n",
    "    \"</style>\"\n",
    "    # End icons style\n",
    "    \"<style>.base-white{color:var(--color-white);}</style>\"\n",
    "    \"</head>\"  # Styles subtitle\n",
    "    \"<div class='component-title'>\"\n",
    "    \"<div class='big-icon-banner'></div>\"\n",
    "    \"<div class='text-block'>\"\n",
    "    \"<h1>Thinking Process</h1>\"\n",
    "    \"<p class='base-white'>\"\n",
    "    \"And some considerations on the data and the problem by Alejandro Tovar</p>\"\n",
    "    \"</div>\"\n",
    "    \"</div>\"\n",
    ")\n",
    "s.plt.html(html=prediction_header, order=0)"
   ]
  },
  {
   "cell_type": "markdown",
   "metadata": {},
   "source": [
    "## Mising Values"
   ]
  },
  {
   "cell_type": "code",
   "execution_count": 130,
   "metadata": {},
   "outputs": [
    {
     "name": "stdout",
     "output_type": "stream",
     "text": [
      "2023-12-15 23:51 | INFO | html added to the task pool\n"
     ]
    }
   ],
   "source": [
    "distribution_header_html = (                                                                              \n",
    "    '<div style=\"width:100%; height:90px; \"><h3>Amount of Null Data for Each Dataset</h3>' \n",
    "    '''<p>Since there are some columns that have a high ratio of null data, I removed some columns (which didn’t have an ID, since those rows would be impossible to match between datasets),\n",
    "      and filled the values for other columns with either a categorical variable or a numerical one, depending on each variable.</p></div>'''\n",
    ")                                                                                                         \n",
    "s.plt.html(html=distribution_header_html, order=1, rows_size=5)"
   ]
  },
  {
   "cell_type": "code",
   "execution_count": 108,
   "metadata": {},
   "outputs": [
    {
     "name": "stdout",
     "output_type": "stream",
     "text": [
      "2023-12-15 23:46 | INFO | stacked_horizontal_bar_chart added to the task pool\n"
     ]
    }
   ],
   "source": [
    "s.plt.stacked_horizontal_bar(\n",
    "    data=data, x=\"Cols\",\n",
    "    title='Number of Null Values for Offers',\n",
    "    order=2,\n",
    "    cols_size=6,\n",
    "    rows_size=3,\n",
    "    option_modifications={\"color\": [\"var(--color-error)\", \"var(--color-success-light)\"]}\n",
    "    )"
   ]
  },
  {
   "cell_type": "code",
   "execution_count": 109,
   "metadata": {},
   "outputs": [
    {
     "name": "stdout",
     "output_type": "stream",
     "text": [
      "2023-12-15 23:46 | INFO | stacked_horizontal_bar_chart added to the task pool\n"
     ]
    }
   ],
   "source": [
    "s.plt.stacked_horizontal_bar(\n",
    "    data=data2, x=\"Cols\",\n",
    "    title='Number of Null Values for Leads',\n",
    "    order=3,\n",
    "    cols_size=6,\n",
    "    rows_size=3,\n",
    "    option_modifications={\"color\": [\"var(--color-error)\", \"var(--color-success-light)\"]}\n",
    "    )"
   ]
  },
  {
   "cell_type": "code",
   "execution_count": 110,
   "metadata": {},
   "outputs": [
    {
     "name": "stdout",
     "output_type": "stream",
     "text": [
      "2023-12-15 23:46 | INFO | stacked_horizontal_bar_chart added to the task pool\n"
     ]
    }
   ],
   "source": [
    "s.plt.stacked_horizontal_bar(\n",
    "    data=merge_data, x=\"Cols\",\n",
    "    title='Number of Null values for the Merged Dataframe',\n",
    "    order=4,\n",
    "    cols_size=12,\n",
    "    option_modifications={\"color\": [\"var(--color-error)\", \"var(--color-success-light)\"]}\n",
    "    )"
   ]
  },
  {
   "cell_type": "markdown",
   "metadata": {},
   "source": [
    "## Unbalanced Data"
   ]
  },
  {
   "cell_type": "code",
   "execution_count": 132,
   "metadata": {},
   "outputs": [
    {
     "name": "stdout",
     "output_type": "stream",
     "text": [
      "2023-12-15 23:52 | INFO | html added to the task pool\n"
     ]
    }
   ],
   "source": [
    "distribution_header_html = (            \n",
    "    '</br> </br>'                                                                  \n",
    "    '<div style=\"width:100%; height:90px; \"><h3>Data Balance</h3>' \n",
    "    '''<p>The data is unbalanced for some specific features. Knowing this, I will be able to use a technique later to handle this, such as resampling or SMOTE.</p></div>'''\n",
    ")                                                                                                         \n",
    "s.plt.html(html=distribution_header_html, order=5)  "
   ]
  },
  {
   "cell_type": "code",
   "execution_count": 112,
   "metadata": {},
   "outputs": [],
   "source": [
    "Use_case_data = merge_df[\"Use Case_y\"].value_counts()\n",
    "Use_case_df = pd.DataFrame()\n",
    "Use_case_df[\"label\"] = Use_case_data.index \n",
    "Use_case_df[\"value\"] = Use_case_data.values"
   ]
  },
  {
   "cell_type": "code",
   "execution_count": 113,
   "metadata": {},
   "outputs": [],
   "source": [
    "Pain_data = merge_df[\"Pain\"].value_counts()\n",
    "Pain_df = pd.DataFrame()\n",
    "Pain_df[\"label\"] = Pain_data.index\n",
    "Pain_df[\"value\"] = Pain_data.values"
   ]
  },
  {
   "cell_type": "code",
   "execution_count": 114,
   "metadata": {},
   "outputs": [
    {
     "name": "stdout",
     "output_type": "stream",
     "text": [
      "2023-12-15 23:46 | INFO | pie_chart added to the task pool\n"
     ]
    }
   ],
   "source": [
    "s.plt.pie(\n",
    "    data=Use_case_df, \n",
    "    names=\"label\", \n",
    "    values=\"value\",\n",
    "    order=6, \n",
    "    rows_size=2, \n",
    "    cols_size=6,\n",
    "    title= \"Distribution of Use Case Data\"\n",
    ")"
   ]
  },
  {
   "cell_type": "code",
   "execution_count": 115,
   "metadata": {},
   "outputs": [
    {
     "name": "stdout",
     "output_type": "stream",
     "text": [
      "2023-12-15 23:46 | INFO | pie_chart added to the task pool\n"
     ]
    }
   ],
   "source": [
    "s.plt.pie(\n",
    "    data=Pain_df, \n",
    "    names=\"label\", \n",
    "    values=\"value\",\n",
    "    order=7,\n",
    "    rows_size=2, \n",
    "    cols_size=6,\n",
    "    title= \"Distribution of Pain Data\"\n",
    ")"
   ]
  },
  {
   "cell_type": "markdown",
   "metadata": {},
   "source": [
    "## Data Enrichment"
   ]
  },
  {
   "cell_type": "code",
   "execution_count": 134,
   "metadata": {},
   "outputs": [
    {
     "name": "stdout",
     "output_type": "stream",
     "text": [
      "2023-12-15 23:56 | INFO | html added to the task pool\n"
     ]
    }
   ],
   "source": [
    "distribution_header_html = (     \n",
    "    '</br> </br>'\n",
    "    '<div style=\"width:100%; height:90px; \"><h3>Data Enrichment</h3>' \n",
    "    '''<p>In this step, some correlations were checked and the data was encoded. One hot encoding was applied to features with few categories,\n",
    "      and binary encoding was applied to features with several categories.</p>\n",
    "     <p>Additionally, some features were added and some unnecessary data and low-importance features were removed. For example,\n",
    "       the date columns were transformed into the number of days it took to close the deal, which is more relevant data. \n",
    "       There were also a couple of columns with a very high correlation with the target variable, and these were also removed.</p></div>'''\n",
    ")                                                                                                         \n",
    "s.plt.html(html=distribution_header_html, order=8, rows_size=9)  "
   ]
  },
  {
   "cell_type": "code",
   "execution_count": 117,
   "metadata": {},
   "outputs": [
    {
     "data": {
      "text/plain": [
       "int64     16\n",
       "bool      16\n",
       "object     2\n",
       "Name: count, dtype: int64"
      ]
     },
     "execution_count": 117,
     "metadata": {},
     "output_type": "execute_result"
    }
   ],
   "source": [
    "merge_processed.dtypes.value_counts()"
   ]
  },
  {
   "cell_type": "code",
   "execution_count": 118,
   "metadata": {},
   "outputs": [
    {
     "name": "stdout",
     "output_type": "stream",
     "text": [
      "2023-12-15 23:46 | INFO | Starting execution: \u001b[4mindicator\u001b[0m\n",
      "2023-12-15 23:46 | INFO | create indicator added to the task pool\n",
      "2023-12-15 23:46 | INFO | create indicator added to the task pool\n",
      "2023-12-15 23:46 | INFO | create indicator added to the task pool\n",
      "2023-12-15 23:46 | INFO | Finished execution: \u001b[4mindicator\u001b[0m, elapsed time: 16.73 ms\n",
      "2023-12-15 23:46 | INFO | Starting execution: \u001b[4mindicator\u001b[0m\n",
      "2023-12-15 23:46 | INFO | create indicator added to the task pool\n",
      "2023-12-15 23:46 | INFO | create indicator added to the task pool\n",
      "2023-12-15 23:46 | INFO | create indicator added to the task pool\n",
      "2023-12-15 23:46 | INFO | Finished execution: \u001b[4mindicator\u001b[0m, elapsed time: 13.66 ms\n"
     ]
    },
    {
     "data": {
      "text/plain": [
       "15"
      ]
     },
     "execution_count": 118,
     "metadata": {},
     "output_type": "execute_result"
    }
   ],
   "source": [
    "s.plt.indicator(\n",
    "    order=9, cols_size=9,\n",
    "    padding=\"0,0,0,2\",\n",
    "    data=[\n",
    "         {\n",
    "             \"description\": \"Feature Engineering\",\n",
    "             \"title\": \"\",\n",
    "             \"value\": \"Before\",\n",
    "             \"align\": \"center\",\n",
    "             \"color\": \"default\",\n",
    "             \"variant\": \"contained\"\n",
    "        },\n",
    "        {\n",
    "             \"description\": \"\",\n",
    "             \"title\": \"Features\",\n",
    "             \"value\": merge_df.shape[1],\n",
    "             \"align\": \"center\",\n",
    "             \"color\": \"default\"\n",
    "        },\n",
    "        {\n",
    "            \"description\": \"object | int64 | float64\",\n",
    "            \"title\": \"data types\",\n",
    "            \"value\": \"16  |  1  |  1  \",\n",
    "            \"color\": \"default\",\n",
    "\n",
    "        },\n",
    "    ],\n",
    ")\n",
    "s.plt.indicator(\n",
    "    order=12, cols_size=9,\n",
    "    padding=\"0,0,0,2\",\n",
    "    data=[\n",
    "         {\n",
    "             \"description\": \" Feature Engineering\",\n",
    "             \"title\": \"\",\n",
    "             \"value\": \"After\",\n",
    "             \"align\": \"center\",\n",
    "             \"color\": \"success\",\n",
    "             \"variant\": \"contained\"\n",
    "        },\n",
    "        {\n",
    "             \"description\": \"\",\n",
    "             \"title\": \"Features\",\n",
    "             \"value\": merge_processed.shape[1],\n",
    "             \"align\": \"center\",\n",
    "             \"color\": \"success\"\n",
    "        },\n",
    "        {\n",
    "            \"description\": \"object | int64 | bool\",\n",
    "            \"title\": \"data types\",\n",
    "            \"value\": \"2 | 15 | 16  \",\n",
    "            \"color\": \"success\",\n",
    "        },\n",
    "    ],\n",
    ")"
   ]
  },
  {
   "cell_type": "markdown",
   "metadata": {},
   "source": [
    "## Results"
   ]
  },
  {
   "cell_type": "code",
   "execution_count": 119,
   "metadata": {},
   "outputs": [],
   "source": [
    "merge_processed = merge_processed[merge_processed['Status'].isin(['Closed Lost', 'Closed Won'])]\n",
    "\n",
    "# Creating X and y variables\n",
    "X = merge_processed.drop([\"Status\"], axis=1)\n",
    "y = merge_processed[\"Status\"]\n",
    "\n",
    "# Creating training and test datasets\n",
    "X_train, X_test, y_train, y_test = train_test_split(X, y, test_size=0.2, random_state=42)\n",
    "\n",
    "X_test_id = X_test[\"Id\"]\n",
    "X_train.drop([\"Id\"], axis=1, inplace=True)\n",
    "X_test.drop([\"Id\"], axis=1, inplace=True)"
   ]
  },
  {
   "cell_type": "code",
   "execution_count": 120,
   "metadata": {},
   "outputs": [
    {
     "name": "stdout",
     "output_type": "stream",
     "text": [
      "Accuracy: 82.50%\n"
     ]
    }
   ],
   "source": [
    "from sklearn.metrics import accuracy_score\n",
    "\n",
    "\n",
    "# Create a Logistic Regression model\n",
    "model = RandomForestClassifier(n_estimators=200)\n",
    "model.fit(X_train, y_train)\n",
    "\n",
    "# Predict on the test data\n",
    "y_pred = model.predict(X_test)\n",
    "\n",
    "# Calculate the accuracy\n",
    "accuracy = accuracy_score(y_test, y_pred)\n",
    "accuracy_str = str(accuracy) + \"%\"\n",
    "print(f'Accuracy: {accuracy*100:.2f}%')"
   ]
  },
  {
   "cell_type": "code",
   "execution_count": 136,
   "metadata": {},
   "outputs": [
    {
     "name": "stdout",
     "output_type": "stream",
     "text": [
      "2023-12-15 23:58 | INFO | html added to the task pool\n"
     ]
    }
   ],
   "source": [
    "distribution_header_html = (  \n",
    "        '</br> </br>'\n",
    "        '<div style=\"width:100%; height:90px; \"><h3>Results of the Algorithm</h3>' \n",
    "        '''<p>The predictions of the algorithm are on the column \"Predicted\" and the true values are on the column \"Real\", the column \"Match\" indicates if the predicted and real value match or not.</p></div>'''\n",
    ")                                                                                                         \n",
    "s.plt.html(html=distribution_header_html, order=15)  "
   ]
  },
  {
   "cell_type": "code",
   "execution_count": 122,
   "metadata": {},
   "outputs": [],
   "source": [
    "results_df = pd.DataFrame()\n",
    "results_df[\"Id\"] = X_test_id\n",
    "results_df[\"Predicted\"] = y_pred\n",
    "results_df[\"Real\"] = y_test\n",
    "results_df[\"Match\"] = results_df[\"Predicted\"] == results_df[\"Real\"]"
   ]
  },
  {
   "cell_type": "code",
   "execution_count": 123,
   "metadata": {},
   "outputs": [
    {
     "name": "stdout",
     "output_type": "stream",
     "text": [
      "2023-12-15 23:46 | INFO | table added to the task pool\n"
     ]
    }
   ],
   "source": [
    "s.plt.table(\n",
    "    data=results_df, order=16, cols_size=6,\n",
    "    label_columns={\n",
    "        \"Match\":{\n",
    "            \"True\": \"active\",\n",
    "            \"False\": \"red\",\n",
    "        },\n",
    "    },\n",
    ")"
   ]
  },
  {
   "cell_type": "code",
   "execution_count": 124,
   "metadata": {},
   "outputs": [
    {
     "name": "stdout",
     "output_type": "stream",
     "text": [
      "2023-12-15 23:46 | INFO | Starting execution: \u001b[4mindicator\u001b[0m\n",
      "2023-12-15 23:46 | INFO | create indicator added to the task pool\n",
      "2023-12-15 23:46 | INFO | create indicator added to the task pool\n",
      "2023-12-15 23:46 | INFO | Finished execution: \u001b[4mindicator\u001b[0m, elapsed time: 11.43 ms\n"
     ]
    },
    {
     "data": {
      "text/plain": [
       "19"
      ]
     },
     "execution_count": 124,
     "metadata": {},
     "output_type": "execute_result"
    }
   ],
   "source": [
    "s.plt.indicator(\n",
    "    order=17, cols_size=9,\n",
    "    padding=\"0,0,0,0\",\n",
    "    data=[\n",
    "         {\n",
    "             \"description\": \"of the model\",\n",
    "             \"title\": \"approximate\",\n",
    "             \"value\": \"Accuracy\",\n",
    "             \"align\": \"center\",\n",
    "             \"color\": \"success\",\n",
    "             \"variant\": \"contained\"\n",
    "        },\n",
    "        {\n",
    "             \"description\": \"\",\n",
    "             \"title\": \"\",\n",
    "             \"value\": f'{accuracy*100:.2f}%',\n",
    "             \"align\": \"center\",\n",
    "             \"color\": \"success\",\n",
    "        },\n",
    "    ],\n",
    ")"
   ]
  },
  {
   "cell_type": "markdown",
   "metadata": {},
   "source": [
    "## Run the server"
   ]
  },
  {
   "cell_type": "code",
   "execution_count": 137,
   "metadata": {},
   "outputs": [
    {
     "name": "stdout",
     "output_type": "stream",
     "text": [
      "2023-12-15 23:59 | INFO | Executing task pool\n",
      "2023-12-15 23:59 | INFO | Starting execution: \u001b[4mhtml\u001b[0m\n",
      "2023-12-15 23:59 | INFO | Updated HTML at Technical Test_15\n",
      "2023-12-15 23:59 | INFO | Finished execution: \u001b[4mhtml\u001b[0m, elapsed time: 3359.09 ms\n"
     ]
    }
   ],
   "source": [
    "s.run()"
   ]
  },
  {
   "cell_type": "code",
   "execution_count": null,
   "metadata": {},
   "outputs": [],
   "source": []
  }
 ],
 "metadata": {
  "kernelspec": {
   "display_name": "myenv",
   "language": "python",
   "name": "python3"
  },
  "language_info": {
   "codemirror_mode": {
    "name": "ipython",
    "version": 3
   },
   "file_extension": ".py",
   "mimetype": "text/x-python",
   "name": "python",
   "nbconvert_exporter": "python",
   "pygments_lexer": "ipython3",
   "version": "3.11.5"
  }
 },
 "nbformat": 4,
 "nbformat_minor": 2
}

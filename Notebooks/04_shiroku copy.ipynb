{
 "cells": [
  {
   "cell_type": "code",
   "execution_count": 1,
   "metadata": {},
   "outputs": [
    {
     "name": "stderr",
     "output_type": "stream",
     "text": [
      "/home/alphalejo/anaconda3/envs/myenv/lib/python3.11/site-packages/pydantic/_migration.py:288: UserWarning: `pydantic.utils:lenient_issubclass` has been removed. We are importing from `pydantic.v1.utils:lenient_issubclass` instead.See the migration guide for more details: https://docs.pydantic.dev/latest/migration/\n",
      "  warnings.warn(\n",
      "/home/alphalejo/anaconda3/envs/myenv/lib/python3.11/site-packages/pydantic/_migration.py:288: UserWarning: `pydantic.utils:smart_deepcopy` has been removed. We are importing from `pydantic.v1.utils:smart_deepcopy` instead.See the migration guide for more details: https://docs.pydantic.dev/latest/migration/\n",
      "  warnings.warn(\n"
     ]
    }
   ],
   "source": [
    "import pandas as pd\n",
    "import numpy as np\n",
    "import random\n",
    "import shimoku_api_python as shimoku\n",
    "\n",
    "from sklearn.model_selection import train_test_split\n",
    "from sklearn.ensemble import RandomForestClassifier\n",
    "from sklearn.model_selection import cross_val_score\n",
    "from sklearn.feature_extraction import DictVectorizer"
   ]
  },
  {
   "cell_type": "code",
   "execution_count": 2,
   "metadata": {},
   "outputs": [],
   "source": [
    "merge_df = pd.read_csv(\"../Data/Processed/merge_processed.csv\")"
   ]
  },
  {
   "cell_type": "code",
   "execution_count": 3,
   "metadata": {},
   "outputs": [],
   "source": [
    "# Creating X and y variables\n",
    "X = merge_df.drop([\"Status\"], axis=1)\n",
    "y = merge_df[\"Status\"]\n",
    "\n",
    "# Creating training and test datasets\n",
    "X_train, X_test, y_train, y_test = train_test_split(X, y, test_size=0.2, random_state=42)\n",
    "\n",
    "X_train.drop([\"Id\"], axis=1, inplace=True)"
   ]
  },
  {
   "cell_type": "code",
   "execution_count": 4,
   "metadata": {},
   "outputs": [
    {
     "name": "stdout",
     "output_type": "stream",
     "text": [
      "Cross-validation scores:  [0.75252525 0.76767677 0.72895623 0.75589226 0.72390572]\n",
      "Average cross-validation score:  0.7457912457912459\n"
     ]
    }
   ],
   "source": [
    "# Create a Logistic Regression model\n",
    "clf = RandomForestClassifier(n_estimators=100)\n",
    "clf.fit(X_train, y_train)\n",
    "# Perform 5-fold cross validation\n",
    "scores = cross_val_score(clf, X_train, y_train, cv=5)\n",
    "\n",
    "# Print cross validation scores\n",
    "print(\"Cross-validation scores: \", scores)\n",
    "\n",
    "# Print the average of the cross-validation scores\n",
    "print(\"Average cross-validation score: \", scores.mean())"
   ]
  },
  {
   "cell_type": "code",
   "execution_count": 5,
   "metadata": {},
   "outputs": [],
   "source": [
    "test_prediction = clf.predict_proba(X_test.drop([\"Id\"], axis=1))[:, 1]"
   ]
  },
  {
   "cell_type": "code",
   "execution_count": 6,
   "metadata": {},
   "outputs": [],
   "source": [
    "df_test = X_test.copy()\n",
    "df_test[\"Status\"] = y_test\n",
    "\n",
    "binary_prediction_table = pd.DataFrame({\n",
    "    'Lead ID': df_test['Id'].values,\n",
    "    'Probability': [round(100 * p, 2) for p in test_prediction],\n",
    "    'Lead Scoring': ['High' if v > 0.75 else 'Medium' if v > 0.5 else 'Low' for v in test_prediction],\n",
    "})\n",
    "\n",
    "total_occurrences = len(binary_prediction_table)\n",
    "high_conversion_occurrences = len(binary_prediction_table[binary_prediction_table['Lead Scoring'] == 'High'])\n",
    "moderate_conversion_occurrences = len(binary_prediction_table[binary_prediction_table['Lead Scoring'] == 'Medium'])\n",
    "low_conversion_occurrences = len(binary_prediction_table[binary_prediction_table['Lead Scoring'] == 'Low'])\n",
    "\n",
    "high_conversion = high_conversion_occurrences / total_occurrences\n",
    "moderate_conversion = moderate_conversion_occurrences / total_occurrences\n",
    "low_conversion = low_conversion_occurrences / total_occurrences"
   ]
  },
  {
   "cell_type": "code",
   "execution_count": 7,
   "metadata": {},
   "outputs": [
    {
     "data": {
      "text/html": [
       "<style>#sk-container-id-1 {color: black;background-color: white;}#sk-container-id-1 pre{padding: 0;}#sk-container-id-1 div.sk-toggleable {background-color: white;}#sk-container-id-1 label.sk-toggleable__label {cursor: pointer;display: block;width: 100%;margin-bottom: 0;padding: 0.3em;box-sizing: border-box;text-align: center;}#sk-container-id-1 label.sk-toggleable__label-arrow:before {content: \"▸\";float: left;margin-right: 0.25em;color: #696969;}#sk-container-id-1 label.sk-toggleable__label-arrow:hover:before {color: black;}#sk-container-id-1 div.sk-estimator:hover label.sk-toggleable__label-arrow:before {color: black;}#sk-container-id-1 div.sk-toggleable__content {max-height: 0;max-width: 0;overflow: hidden;text-align: left;background-color: #f0f8ff;}#sk-container-id-1 div.sk-toggleable__content pre {margin: 0.2em;color: black;border-radius: 0.25em;background-color: #f0f8ff;}#sk-container-id-1 input.sk-toggleable__control:checked~div.sk-toggleable__content {max-height: 200px;max-width: 100%;overflow: auto;}#sk-container-id-1 input.sk-toggleable__control:checked~label.sk-toggleable__label-arrow:before {content: \"▾\";}#sk-container-id-1 div.sk-estimator input.sk-toggleable__control:checked~label.sk-toggleable__label {background-color: #d4ebff;}#sk-container-id-1 div.sk-label input.sk-toggleable__control:checked~label.sk-toggleable__label {background-color: #d4ebff;}#sk-container-id-1 input.sk-hidden--visually {border: 0;clip: rect(1px 1px 1px 1px);clip: rect(1px, 1px, 1px, 1px);height: 1px;margin: -1px;overflow: hidden;padding: 0;position: absolute;width: 1px;}#sk-container-id-1 div.sk-estimator {font-family: monospace;background-color: #f0f8ff;border: 1px dotted black;border-radius: 0.25em;box-sizing: border-box;margin-bottom: 0.5em;}#sk-container-id-1 div.sk-estimator:hover {background-color: #d4ebff;}#sk-container-id-1 div.sk-parallel-item::after {content: \"\";width: 100%;border-bottom: 1px solid gray;flex-grow: 1;}#sk-container-id-1 div.sk-label:hover label.sk-toggleable__label {background-color: #d4ebff;}#sk-container-id-1 div.sk-serial::before {content: \"\";position: absolute;border-left: 1px solid gray;box-sizing: border-box;top: 0;bottom: 0;left: 50%;z-index: 0;}#sk-container-id-1 div.sk-serial {display: flex;flex-direction: column;align-items: center;background-color: white;padding-right: 0.2em;padding-left: 0.2em;position: relative;}#sk-container-id-1 div.sk-item {position: relative;z-index: 1;}#sk-container-id-1 div.sk-parallel {display: flex;align-items: stretch;justify-content: center;background-color: white;position: relative;}#sk-container-id-1 div.sk-item::before, #sk-container-id-1 div.sk-parallel-item::before {content: \"\";position: absolute;border-left: 1px solid gray;box-sizing: border-box;top: 0;bottom: 0;left: 50%;z-index: -1;}#sk-container-id-1 div.sk-parallel-item {display: flex;flex-direction: column;z-index: 1;position: relative;background-color: white;}#sk-container-id-1 div.sk-parallel-item:first-child::after {align-self: flex-end;width: 50%;}#sk-container-id-1 div.sk-parallel-item:last-child::after {align-self: flex-start;width: 50%;}#sk-container-id-1 div.sk-parallel-item:only-child::after {width: 0;}#sk-container-id-1 div.sk-dashed-wrapped {border: 1px dashed gray;margin: 0 0.4em 0.5em 0.4em;box-sizing: border-box;padding-bottom: 0.4em;background-color: white;}#sk-container-id-1 div.sk-label label {font-family: monospace;font-weight: bold;display: inline-block;line-height: 1.2em;}#sk-container-id-1 div.sk-label-container {text-align: center;}#sk-container-id-1 div.sk-container {/* jupyter's `normalize.less` sets `[hidden] { display: none; }` but bootstrap.min.css set `[hidden] { display: none !important; }` so we also need the `!important` here to be able to override the default hidden behavior on the sphinx rendered scikit-learn.org. See: https://github.com/scikit-learn/scikit-learn/issues/21755 */display: inline-block !important;position: relative;}#sk-container-id-1 div.sk-text-repr-fallback {display: none;}</style><div id=\"sk-container-id-1\" class=\"sk-top-container\"><div class=\"sk-text-repr-fallback\"><pre>DictVectorizer(sparse=False)</pre><b>In a Jupyter environment, please rerun this cell to show the HTML representation or trust the notebook. <br />On GitHub, the HTML representation is unable to render, please try loading this page with nbviewer.org.</b></div><div class=\"sk-container\" hidden><div class=\"sk-item\"><div class=\"sk-estimator sk-toggleable\"><input class=\"sk-toggleable__control sk-hidden--visually\" id=\"sk-estimator-id-1\" type=\"checkbox\" checked><label for=\"sk-estimator-id-1\" class=\"sk-toggleable__label sk-toggleable__label-arrow\">DictVectorizer</label><div class=\"sk-toggleable__content\"><pre>DictVectorizer(sparse=False)</pre></div></div></div></div></div>"
      ],
      "text/plain": [
       "DictVectorizer(sparse=False)"
      ]
     },
     "execution_count": 7,
     "metadata": {},
     "output_type": "execute_result"
    }
   ],
   "source": [
    "df_train = X_train.copy()\n",
    "df_train[\"Status\"] = y_train\n",
    "\n",
    "train_dic = df_train.to_dict(orient='records')\n",
    "dv = DictVectorizer(sparse=False)\n",
    "dv.fit(train_dic)"
   ]
  },
  {
   "cell_type": "markdown",
   "metadata": {},
   "source": [
    "### Define Auxiliary Funtions"
   ]
  },
  {
   "cell_type": "code",
   "execution_count": 8,
   "metadata": {},
   "outputs": [],
   "source": [
    "def get_label_columns(table_data: pd.DataFrame):\n",
    "    low_threshold = table_data[\"Probability\"][table_data[\"Lead Scoring\"] == \"Low\"].max() + 1e-10\n",
    "    mid_threshold = table_data[\"Probability\"][table_data[\"Lead Scoring\"] == \"Medium\"].max() + 1e-10\n",
    "    return {\n",
    "        ('Positive Impact Factors', 'outlined'): '#20C69E',\n",
    "        ('Negative Impact Factors', 'outlined'): '#ED5627',\n",
    "        'Lead Scoring': {\n",
    "            'Low': '#F86C7D',\n",
    "            'High': '#001E50',\n",
    "            'Medium': '#F2BB67',\n",
    "        },\n",
    "        'Probability': {\n",
    "            (0, low_threshold): '#F86C7D',\n",
    "            (low_threshold, mid_threshold): '#F2BB67',\n",
    "            (mid_threshold, np.inf): '#001E50',\n",
    "        },\n",
    "    }"
   ]
  },
  {
   "cell_type": "markdown",
   "metadata": {},
   "source": [
    "### Client Initialization"
   ]
  },
  {
   "cell_type": "code",
   "execution_count": 9,
   "metadata": {},
   "outputs": [
    {
     "name": "stdout",
     "output_type": "stream",
     "text": [
      "2023-12-14 21:29 | INFO | Starting execution: \u001b[4mset_workspace\u001b[0m\n",
      "2023-12-14 21:29 | INFO | Finished execution: \u001b[4mset_workspace\u001b[0m, elapsed time: 1223.62 ms\n",
      "2023-12-14 21:29 | INFO | Starting execution: \u001b[4mset_menu_path\u001b[0m\n",
      "2023-12-14 21:29 | INFO | Retrieved menu path Lead Scoring with id a5126f90-6ecd-4fa4-adbb-9893a64289dc\n",
      "2023-12-14 21:29 | INFO | Retrieved board Default Name with id bfebf856-afc6-4e02-bac1-c09e615f127c\n",
      "2023-12-14 21:29 | INFO | Finished execution: \u001b[4mset_menu_path\u001b[0m, elapsed time: 4306.19 ms\n"
     ]
    }
   ],
   "source": [
    "api_key: str = \"90336deb-e537-40a5-98e8-a91eb731a823\"\n",
    "universe_id: str = \"c2edae80-3e21-4f15-8c51-c394b34475cf\"\n",
    "workspace_id: str = \"e96f1077-ae84-4068-9333-457b5d65ec37\"\n",
    "\n",
    "\n",
    "s = shimoku.Client(\n",
    "    access_token=api_key,\n",
    "    universe_id=universe_id,\n",
    "    async_execution=True,\n",
    "    verbosity='INFO',\n",
    ")\n",
    "s.set_workspace(workspace_id)\n",
    "s.set_menu_path('Lead Scoring')"
   ]
  },
  {
   "cell_type": "markdown",
   "metadata": {},
   "source": [
    "### Clear Menu Path"
   ]
  },
  {
   "cell_type": "code",
   "execution_count": 10,
   "metadata": {},
   "outputs": [
    {
     "name": "stdout",
     "output_type": "stream",
     "text": [
      "2023-12-14 21:29 | INFO | Starting execution: \u001b[4mclear_menu_path\u001b[0m\n",
      "2023-12-14 21:29 | INFO | Deleted 12 components\n",
      "2023-12-14 21:29 | INFO | Deleted 4 unused datasets from the menu path Lead Scoring\n",
      "2023-12-14 21:29 | INFO | Finished execution: \u001b[4mclear_menu_path\u001b[0m, elapsed time: 9475.37 ms\n"
     ]
    }
   ],
   "source": [
    "s.plt.clear_menu_path()"
   ]
  },
  {
   "cell_type": "markdown",
   "metadata": {},
   "source": [
    "### Page Header"
   ]
  },
  {
   "cell_type": "code",
   "execution_count": 11,
   "metadata": {},
   "outputs": [
    {
     "name": "stdout",
     "output_type": "stream",
     "text": [
      "2023-12-14 21:29 | INFO | html added to the task pool\n"
     ]
    }
   ],
   "source": [
    "prediction_header = (\n",
    "    \"<head>\"\n",
    "    \"<style>\"  # Styles title\n",
    "    \".component-title{height:auto; width:100%; \"\n",
    "    \"border-radius:16px; padding:16px;\"\n",
    "    \"display:flex; align-items:center;\"\n",
    "    \"background-color:var(--chart-C1); color:var(--color-white);}\"\n",
    "    \"</style>\"\n",
    "    # Start icons style\n",
    "    \"<style>.big-icon-banner\"\n",
    "    \"{width:48px; height: 48px; display: flex;\"\n",
    "    \"margin-right: 16px;\"\n",
    "    \"justify-content: center;\"\n",
    "    \"align-items: center;\"\n",
    "    \"background-size: contain;\"\n",
    "    \"background-position: center;\"\n",
    "    \"background-repeat: no-repeat;\"\n",
    "    \"background-image: url('https://uploads-ssl.webflow.com/619f9fe98661d321dc3beec7/63594ccf3f311a98d72faff7_suite-customer-b.svg');}\"\n",
    "    \"</style>\"\n",
    "    # End icons style\n",
    "    \"<style>.base-white{color:var(--color-white);}</style>\"\n",
    "    \"</head>\"  # Styles subtitle\n",
    "    \"<div class='component-title'>\"\n",
    "    \"<div class='big-icon-banner'></div>\"\n",
    "    \"<div class='text-block'>\"\n",
    "    \"<h1>Predictions</h1>\"\n",
    "    \"<p class='base-white'>\"\n",
    "    \"Lead scoring prediction</p>\"\n",
    "    \"</div>\"\n",
    "    \"</div>\"\n",
    ")\n",
    "s.plt.html(html=prediction_header, order=0)"
   ]
  },
  {
   "cell_type": "markdown",
   "metadata": {},
   "source": [
    "### General Indicators"
   ]
  },
  {
   "cell_type": "code",
   "execution_count": 12,
   "metadata": {},
   "outputs": [],
   "source": [
    "prediction_indicators = [\n",
    "    {\n",
    "        'description': f\"{100 * high_conversion:.2f}% of total {total_occurrences}\",\n",
    "        'title': 'High conversion (#)',\n",
    "        'value': int(total_occurrences * high_conversion),\n",
    "        'color': 'success',\n",
    "        'taregPath': 'www.shimoku.com',\n",
    "    },\n",
    "    {\n",
    "        'description': '% of leads that will purchase within 120 days. Time saved: 80%',\n",
    "        'title': 'High conversion expected',\n",
    "        'value': '85%',\n",
    "        'color': 'success',\n",
    "        'variant': 'contained',\n",
    "        'targetPath': 'www.shimoku.com',\n",
    "    },\n",
    "    {\n",
    "        'description': f\"{100 * moderate_conversion:.2f}% of total {total_occurrences}\",\n",
    "        'title': 'Moderate conversion (#)',\n",
    "        'value': int(total_occurrences * moderate_conversion),\n",
    "        'color': 'warning',\n",
    "        'taregPath': 'www.shimoku.com',\n",
    "    },\n",
    "    {\n",
    "        'description': '% of leads that will purchase within 120 days. Time saved: 70%',\n",
    "        'title': 'Medium conversion expected',\n",
    "        'value': '40%',\n",
    "        'color': 'warning',\n",
    "        'variant': 'contained',\n",
    "        'taregPath': 'www.shimoku.com',\n",
    "    },\n",
    "    {\n",
    "        \"description\": f\"{100 * low_conversion:.2f}% of total {total_occurrences}\",\n",
    "        \"title\": 'Low conversion (#)',\n",
    "        \"value\": int(total_occurrences * low_conversion),\n",
    "        \"color\": 'error',\n",
    "    },\n",
    "    {\n",
    "        'description': '% of leads that will purchase within 120 days.',\n",
    "        'title': 'Low conversion expected',\n",
    "        'value': '5%',\n",
    "        'color': 'error',\n",
    "        'variant': 'contained',\n",
    "    },\n",
    "]"
   ]
  },
  {
   "cell_type": "code",
   "execution_count": 13,
   "metadata": {},
   "outputs": [
    {
     "name": "stdout",
     "output_type": "stream",
     "text": [
      "2023-12-14 21:29 | INFO | Starting execution: \u001b[4mindicator\u001b[0m\n",
      "2023-12-14 21:29 | INFO | create indicator added to the task pool\n",
      "2023-12-14 21:29 | INFO | create indicator added to the task pool\n",
      "2023-12-14 21:29 | INFO | Finished execution: \u001b[4mindicator\u001b[0m, elapsed time: 7.82 ms\n",
      "2023-12-14 21:29 | INFO | Starting execution: \u001b[4mindicator\u001b[0m\n",
      "2023-12-14 21:29 | INFO | create indicator added to the task pool\n",
      "2023-12-14 21:29 | INFO | create indicator added to the task pool\n",
      "2023-12-14 21:29 | INFO | Finished execution: \u001b[4mindicator\u001b[0m, elapsed time: 8.05 ms\n",
      "2023-12-14 21:29 | INFO | Starting execution: \u001b[4mindicator\u001b[0m\n",
      "2023-12-14 21:29 | INFO | create indicator added to the task pool\n",
      "2023-12-14 21:29 | INFO | create indicator added to the task pool\n",
      "2023-12-14 21:29 | INFO | Finished execution: \u001b[4mindicator\u001b[0m, elapsed time: 5.09 ms\n"
     ]
    }
   ],
   "source": [
    "for i in range(3):\n",
    "    s.plt.indicator(\n",
    "        data=prediction_indicators[i * 2:i * 2 + 2], order=i*2+1, rows_size=1, cols_size=12,\n",
    "    )"
   ]
  },
  {
   "cell_type": "markdown",
   "metadata": {},
   "source": [
    "### Prediction Table"
   ]
  },
  {
   "cell_type": "code",
   "execution_count": 14,
   "metadata": {},
   "outputs": [
    {
     "name": "stdout",
     "output_type": "stream",
     "text": [
      "2023-12-14 21:29 | INFO | html added to the task pool\n",
      "2023-12-14 21:29 | INFO | table added to the task pool\n",
      "2023-12-14 21:29 | INFO | html added to the task pool\n"
     ]
    }
   ],
   "source": [
    "prediction_table_header = (                                                     \n",
    "    '<div style=\"width:100%; height:90px; \"><h4>Lead predicton & factors</h4>'  \n",
    "    '<p>Affectation values for each lead</p></div>'                             \n",
    ")                                                                               \n",
    "s.plt.html(html=prediction_table_header, order=7)              \n",
    "\n",
    "label_columns = get_label_columns(binary_prediction_table)\n",
    "\n",
    "s.plt.table(                                              \n",
    "    order=8, data=binary_prediction_table[:200],                 \n",
    "    label_columns=label_columns, categorical_columns=['Lead Scoring'], \n",
    "    columns_options={                                                  \n",
    "        'Lead ID': {'width': 100},                                     \n",
    "        'Lead Scoring': {'width': 120},                                \n",
    "        'Probability': {'width': 120},                                 \n",
    "        'Positive Impact Factors': {'width': 590},                     \n",
    "        'Negative Impact Factors': {'width': 590}                      \n",
    "    }\n",
    ")                                                                 \n",
    "\n",
    "table_explanaiton = (\n",
    "    \"<head>\"\n",
    "    \"<style>.banner\"\n",
    "    \"{height:100%; width:100%; border-radius:var(--border-radius-m); padding:24px;\"\n",
    "    \"background-size: cover;\"\n",
    "    \"background-image: url('https://ajgutierrezcommx.files.wordpress.com/2022/12/bg-info-predictions.png');\"\n",
    "    \"color:var(--color-white);}\"\n",
    "    \"</style>\"\n",
    "    \"</head>\"\n",
    "    \"<a href='https://shimoku.webflow.io/product/churn-prediction' target='_blank'>\"  # link\n",
    "    \"<div class='banner'>\"\n",
    "    \"<p class='base-white'>\"\n",
    "    \"This table shows the impact values that effect each prediction of each policy. \"\n",
    "    \"With it you can make the best decisions. <br>\"\n",
    "    \"By filtering the data, by the values that interest you the most or by the probability of \"\n",
    "    \"conversion that you want to improve, you will be able to take the necessary actions \"\n",
    "    \"to obtain the maximum benefit or reduce the losses to a minimum.\"\n",
    "    \"</p>\"\n",
    "    \"<div class='button'>Know more</div>\"  # Text button\n",
    "    \"</div>\"\n",
    "    \"</a>\"\n",
    ")\n",
    "s.plt.html(html=table_explanaiton, order=9)"
   ]
  },
  {
   "cell_type": "markdown",
   "metadata": {},
   "source": [
    "### Distribution "
   ]
  },
  {
   "cell_type": "code",
   "execution_count": 15,
   "metadata": {},
   "outputs": [
    {
     "name": "stdout",
     "output_type": "stream",
     "text": [
      "2023-12-14 21:29 | INFO | html added to the task pool\n"
     ]
    }
   ],
   "source": [
    "distribution_header_html = (                                                                              \n",
    "    '<div style=\"width:100%; height:90px; \"><h4>Lead distribution according to % scoring prediction</h4>' \n",
    "    '<p>Total and disaggregated distribution and porcentage</p></div>'                                    \n",
    ")                                                                                                         \n",
    "s.plt.html(html=distribution_header_html, order=10)      "
   ]
  },
  {
   "cell_type": "code",
   "execution_count": 16,
   "metadata": {},
   "outputs": [],
   "source": [
    "doughnut_chart_data = f\"\"\"\n",
    "    {{\n",
    "        tooltip: {{\n",
    "        trigger: 'item'\n",
    "    }},\n",
    "    legend: {{\n",
    "        top: '5%',\n",
    "        left: 'center'\n",
    "    }},\n",
    "    series: [\n",
    "    {{\n",
    "        name: 'Access From',\n",
    "        type: 'pie',\n",
    "        radius: ['40%', '70%'],\n",
    "        avoidLabelOverlap: false,\n",
    "        itemStyle: {{\n",
    "            borderRadius: 0,\n",
    "            borderColor: '#fff',\n",
    "            borderWidth: 0\n",
    "        }},\n",
    "        label: {{\n",
    "            show: false,\n",
    "            position: 'center'\n",
    "        }},\n",
    "        emphasis: {{\n",
    "            label: {{\n",
    "            show: false,\n",
    "            fontSize: '40',\n",
    "            fontWeight: 'bold'\n",
    "        }}\n",
    "      }},\n",
    "      labelLine: {{\n",
    "        show: false\n",
    "      }},\n",
    "      data: [\n",
    "        {{ value: {high_conversion_occurrences}, name: 'High > 75%' }},\n",
    "        {{ value: {moderate_conversion_occurrences}, name: 'Medium [50% - 75%]' }},\n",
    "        {{ value: {low_conversion_occurrences}, name: 'Low < 50%' }}\n",
    "      ]\n",
    "    }}\n",
    "  ]\n",
    "}};      \n",
    "\"\"\""
   ]
  },
  {
   "cell_type": "code",
   "execution_count": 17,
   "metadata": {},
   "outputs": [
    {
     "name": "stdout",
     "output_type": "stream",
     "text": [
      "2023-12-14 21:29 | INFO | free_echarts added to the task pool\n"
     ]
    }
   ],
   "source": [
    "s.plt.free_echarts(\n",
    "    raw_options=doughnut_chart_data,\n",
    "    order=11, cols_size=5, rows_size=2\n",
    ")"
   ]
  },
  {
   "cell_type": "markdown",
   "metadata": {},
   "source": [
    "### Feature Importance"
   ]
  },
  {
   "cell_type": "code",
   "execution_count": 18,
   "metadata": {},
   "outputs": [],
   "source": [
    "feature_importance = pd.DataFrame({\n",
    "    'Feature': dv.feature_names_,\n",
    "    'Importance (%)': clf.feature_importances_[0]\n",
    "})"
   ]
  },
  {
   "cell_type": "code",
   "execution_count": 19,
   "metadata": {},
   "outputs": [
    {
     "name": "stdout",
     "output_type": "stream",
     "text": [
      "2023-12-14 21:29 | INFO | bar_chart added to the task pool\n"
     ]
    }
   ],
   "source": [
    "s.plt.bar(\n",
    "    data=feature_importance.sort_values('Importance (%)', ascending=False)[:10],\n",
    "    x='Feature', y=['Importance (%)'], order=12, rows_size=2, cols_size=7\n",
    ")"
   ]
  },
  {
   "cell_type": "markdown",
   "metadata": {},
   "source": [
    "### Next Best Product"
   ]
  },
  {
   "cell_type": "code",
   "execution_count": 20,
   "metadata": {},
   "outputs": [
    {
     "name": "stdout",
     "output_type": "stream",
     "text": [
      "2023-12-14 21:29 | INFO | html added to the task pool\n"
     ]
    }
   ],
   "source": [
    "next_best_product_header_html = (\n",
    "    '<div style=\"width:100%; height:90px; \"><h4>Next best product prediction</h4>'\n",
    "    '<p>Products with a high probability of conversion for each lead</p></div>'\n",
    ")\n",
    "s.plt.html(html=next_best_product_header_html, order=13)"
   ]
  },
  {
   "cell_type": "code",
   "execution_count": 21,
   "metadata": {},
   "outputs": [],
   "source": [
    "product_recommendation_indicators = [\n",
    "    {\n",
    "        \"color\": \"warning\",\n",
    "        \"backgroundImage\": \"https://img.rawpixel.com/s3fs-private/rawpixel_images/website_content/freerangepexels00938-image-kwvx0t9j.jpg?w=800&dpr=1&fit=default&crop=default&q=65&vib=3&con=3&usm=15&bg=F4F4F3&ixlib=js-2.2.1&s=c1efe8c454d88010fe6ff98c8746397d\",\n",
    "        \"variant\": \"outlined\", \"description\": \"\", \"title\": \"Autos (# prospects)\",\n",
    "        \"align\": \"left\", \"value\": int(len(test_prediction) * 0.4)\n",
    "    },\n",
    "    {\n",
    "        \"color\": \"warning\", \"backgroundImage\": \"https://cotizator.com/wp-content/uploads/2020/06/imagen.png\",\n",
    "        \"variant\": \"outlined\", \"description\": \"\", \"title\": \"New life (# prospects)\",\n",
    "        \"align\": \"left\", \"value\": int(len(test_prediction) * 0.3)\n",
    "    },\n",
    "    {\n",
    "        \"color\": \"warning\",\n",
    "        \"backgroundImage\": \"https://i.ibb.co/Vw4f63j/SALUD-P-BLICA-Y-GESTI-N-SANITARIA-2.jpg\",\n",
    "        \"variant\": \"outlined\", \"description\": \"\", \"title\": \"Health (# prospects)\",\n",
    "        \"align\": \"left\", \"value\": int(len(test_prediction) * 0.2)\n",
    "    }\n",
    "]"
   ]
  },
  {
   "cell_type": "code",
   "execution_count": 22,
   "metadata": {},
   "outputs": [
    {
     "name": "stdout",
     "output_type": "stream",
     "text": [
      "2023-12-14 21:29 | INFO | Starting execution: \u001b[4mindicator\u001b[0m\n",
      "2023-12-14 21:29 | INFO | create indicator added to the task pool\n",
      "2023-12-14 21:29 | INFO | create indicator added to the task pool\n",
      "2023-12-14 21:29 | INFO | create indicator added to the task pool\n",
      "2023-12-14 21:29 | INFO | Finished execution: \u001b[4mindicator\u001b[0m, elapsed time: 9.57 ms\n"
     ]
    },
    {
     "data": {
      "text/plain": [
       "17"
      ]
     },
     "execution_count": 22,
     "metadata": {},
     "output_type": "execute_result"
    }
   ],
   "source": [
    "s.plt.indicator(                                   \n",
    "    data=product_recommendation_indicators, order=14,        \n",
    "    value='value', header='title', align='align', color='color',\n",
    "    variant='variant', background_image='backgroundImage',      \n",
    ")        "
   ]
  },
  {
   "cell_type": "code",
   "execution_count": 23,
   "metadata": {},
   "outputs": [],
   "source": [
    "product_recommendation_table = binary_prediction_table[['Lead ID', 'Probability', 'Lead Scoring']].copy(deep=True)\n",
    "\n",
    "product_recommendation_table['Next Best Product'] = \\\n",
    "    [f\"{['Autos', 'New life', 'Health', 'House'][np.random.choice([0, 1, 2, 3], p=[0.4, 0.3, 0.2, 0.1])]} \" \\\n",
    "     f\"({random.randint(1, 100)}%)\"\n",
    "     for i in range(len(product_recommendation_table))]\n"
   ]
  },
  {
   "cell_type": "code",
   "execution_count": 24,
   "metadata": {},
   "outputs": [
    {
     "name": "stdout",
     "output_type": "stream",
     "text": [
      "2023-12-14 21:29 | INFO | table added to the task pool\n"
     ]
    }
   ],
   "source": [
    "label_columns = get_label_columns(product_recommendation_table)\n",
    "s.plt.table(                                                     \n",
    "    data=product_recommendation_table[:200], order=17,                     \n",
    "    categorical_columns=['Lead Scoring'], label_columns=label_columns,        \n",
    "    columns_options={                                                         \n",
    "        'Lead ID': {'width': 360},                                            \n",
    "        'Lead Scoring': {'width': 360},                                       \n",
    "        'Probability': {'width': 360},                                        \n",
    "        'Next Best Product': {'width': 360},                                  \n",
    "    }                                                                         \n",
    ")                                                                             "
   ]
  },
  {
   "cell_type": "markdown",
   "metadata": {},
   "source": [
    "### Execute all tasks"
   ]
  },
  {
   "cell_type": "code",
   "execution_count": 25,
   "metadata": {},
   "outputs": [
    {
     "name": "stdout",
     "output_type": "stream",
     "text": [
      "2023-12-14 21:29 | INFO | Executing task pool\n",
      "2023-12-14 21:29 | INFO | Starting execution: \u001b[4mhtml\u001b[0m\n",
      "2023-12-14 21:29 | INFO | Starting execution: \u001b[4mcreate indicator\u001b[0m\n",
      "2023-12-14 21:29 | INFO | Starting execution: \u001b[4mcreate indicator\u001b[0m\n",
      "2023-12-14 21:29 | INFO | Starting execution: \u001b[4mcreate indicator\u001b[0m\n",
      "2023-12-14 21:29 | INFO | Starting execution: \u001b[4mcreate indicator\u001b[0m\n",
      "2023-12-14 21:29 | INFO | Starting execution: \u001b[4mcreate indicator\u001b[0m\n",
      "2023-12-14 21:29 | INFO | Starting execution: \u001b[4mcreate indicator\u001b[0m\n",
      "2023-12-14 21:29 | INFO | Starting execution: \u001b[4mhtml\u001b[0m\n",
      "2023-12-14 21:29 | INFO | Starting execution: \u001b[4mtable\u001b[0m\n",
      "2023-12-14 21:29 | INFO | Starting execution: \u001b[4mhtml\u001b[0m\n",
      "2023-12-14 21:29 | INFO | Starting execution: \u001b[4mhtml\u001b[0m\n",
      "2023-12-14 21:29 | INFO | Starting execution: \u001b[4mfree_echarts\u001b[0m\n",
      "2023-12-14 21:29 | INFO | Starting execution: \u001b[4mbar_chart\u001b[0m\n",
      "2023-12-14 21:29 | INFO | Starting execution: \u001b[4mhtml\u001b[0m\n",
      "2023-12-14 21:29 | INFO | Starting execution: \u001b[4mcreate indicator\u001b[0m\n",
      "2023-12-14 21:29 | INFO | Starting execution: \u001b[4mcreate indicator\u001b[0m\n",
      "2023-12-14 21:29 | INFO | Starting execution: \u001b[4mcreate indicator\u001b[0m\n",
      "2023-12-14 21:29 | INFO | Starting execution: \u001b[4mtable\u001b[0m\n",
      "2023-12-14 21:29 | INFO | Created Indicator at 4 with id b9778d26-bbb8-4916-967c-c5f286f71f1f\n",
      "2023-12-14 21:29 | INFO | Finished execution: \u001b[4mcreate indicator\u001b[0m, elapsed time: 1112.99 ms\n",
      "2023-12-14 21:29 | INFO | Created Indicator at 6 with id 7773c668-fcff-4c78-93b6-d64c07f3e5fc\n",
      "2023-12-14 21:29 | INFO | Finished execution: \u001b[4mcreate indicator\u001b[0m, elapsed time: 1341.64 ms\n",
      "2023-12-14 21:29 | INFO | Created Table with id 8a940ea8-4f31-4f9c-ab03-e5e636e69751\n",
      "2023-12-14 21:29 | INFO | Created HTML at 0 with id 73ace6fe-6191-4c76-ae84-9339f454b99d\n",
      "2023-12-14 21:29 | INFO | Finished execution: \u001b[4mhtml\u001b[0m, elapsed time: 1381.47 ms\n",
      "2023-12-14 21:29 | INFO | Created Indicator at 2 with id 6995b2a7-6460-40bb-8036-e62eb7e6111c\n",
      "2023-12-14 21:29 | INFO | Finished execution: \u001b[4mcreate indicator\u001b[0m, elapsed time: 1383.08 ms\n",
      "2023-12-14 21:29 | INFO | Created Indicator at 5 with id e16cc10a-a8b5-4f99-bf87-a53cd79bf0da\n",
      "2023-12-14 21:29 | INFO | Finished execution: \u001b[4mcreate indicator\u001b[0m, elapsed time: 1486.99 ms\n",
      "2023-12-14 21:29 | INFO | Created HTML at 7 with id 8c5b8898-368e-45b7-b1cd-f1d2431045cc\n",
      "2023-12-14 21:29 | INFO | Finished execution: \u001b[4mhtml\u001b[0m, elapsed time: 1599.62 ms\n",
      "2023-12-14 21:29 | INFO | Created HTML at 9 with id 71a1fa57-5d96-418a-b966-b0513e8f05ea\n",
      "2023-12-14 21:29 | INFO | Finished execution: \u001b[4mhtml\u001b[0m, elapsed time: 1874.48 ms\n",
      "2023-12-14 21:29 | INFO | Created Indicator at 1 with id 9e86a68c-8d8b-4cb0-99a6-f6ab2df3b0d9\n",
      "2023-12-14 21:29 | INFO | Finished execution: \u001b[4mcreate indicator\u001b[0m, elapsed time: 1919.27 ms\n",
      "2023-12-14 21:29 | INFO | Created Indicator at 3 with id 3ac91467-2dc3-4f3c-a9c8-e7c5965ca10d\n",
      "2023-12-14 21:29 | INFO | Finished execution: \u001b[4mcreate indicator\u001b[0m, elapsed time: 2362.43 ms\n",
      "2023-12-14 21:29 | INFO | Created HTML at 10 with id eb3928df-b2db-4113-990a-b368182c10ac\n",
      "2023-12-14 21:29 | INFO | Finished execution: \u001b[4mhtml\u001b[0m, elapsed time: 2440.65 ms\n",
      "2023-12-14 21:29 | INFO | Created EChart with id bcf53f67-66c1-41c0-806e-128b8c9a1adf\n",
      "2023-12-14 21:29 | INFO | Created Indicator at 16 with id 10fbd4db-999b-4e72-bea2-b9487134f14a\n",
      "2023-12-14 21:29 | INFO | Finished execution: \u001b[4mcreate indicator\u001b[0m, elapsed time: 2730.93 ms\n",
      "2023-12-14 21:29 | INFO | Created Indicator at 14 with id 7e3cd6d5-5efc-461a-9c59-5e92762db1dd\n",
      "2023-12-14 21:29 | INFO | Finished execution: \u001b[4mcreate indicator\u001b[0m, elapsed time: 2741.42 ms\n",
      "2023-12-14 21:29 | INFO | Created Table with id 70fed927-22dc-40e9-9e61-52c84293758c\n",
      "2023-12-14 21:29 | INFO | Created HTML at 13 with id d8e30e10-cb82-460b-8abb-60f21ee86d17\n",
      "2023-12-14 21:29 | INFO | Finished execution: \u001b[4mhtml\u001b[0m, elapsed time: 2967.96 ms\n",
      "2023-12-14 21:29 | INFO | Created EChart with id 1ed7a573-e84d-4d4d-9098-513e2fd8ab8c\n",
      "2023-12-14 21:29 | INFO | Created data set with id ca3909b8-cdf6-4506-a807-e7e6f9c15610 and name 8a940ea8-4f31-4f9c-ab03-e5e636e69751\n",
      "2023-12-14 21:29 | INFO | Created Indicator at 15 with id 6e49c80b-b676-413f-8785-3cbeefc05ce1\n",
      "2023-12-14 21:29 | INFO | Finished execution: \u001b[4mcreate indicator\u001b[0m, elapsed time: 4582.83 ms\n",
      "2023-12-14 21:29 | INFO | Created data set with id 002899d5-a254-4019-9013-e7b51822f4a2 and name bcf53f67-66c1-41c0-806e-128b8c9a1adf\n",
      "2023-12-14 21:29 | INFO | Deleted 0 component data set links from component at 12\n",
      "2023-12-14 21:29 | INFO | Created data set with id 3cdf58e1-8b00-4c18-aa0a-66ad026e29a4 and name 70fed927-22dc-40e9-9e61-52c84293758c\n",
      "2023-12-14 21:29 | INFO | Created 2 component data set links for component 12\n",
      "2023-12-14 21:29 | INFO | Created data set with id 57f54b42-a797-4d5b-b392-ae582966aff6 and name 1ed7a573-e84d-4d4d-9098-513e2fd8ab8c\n",
      "2023-12-14 21:29 | INFO | Updated Table at 8\n",
      "2023-12-14 21:29 | INFO | Finished execution: \u001b[4mtable\u001b[0m, elapsed time: 7459.79 ms\n",
      "2023-12-14 21:29 | INFO | Updated EChart at 12\n",
      "2023-12-14 21:29 | INFO | Finished execution: \u001b[4mbar_chart\u001b[0m, elapsed time: 7578.14 ms\n",
      "2023-12-14 21:29 | INFO | Deleted 0 component data set links from component at 11\n",
      "2023-12-14 21:29 | INFO | Updated Table at 17\n",
      "2023-12-14 21:29 | INFO | Finished execution: \u001b[4mtable\u001b[0m, elapsed time: 9754.37 ms\n",
      "2023-12-14 21:29 | INFO | Created 1 component data set links for component 11\n",
      "2023-12-14 21:29 | INFO | Updated EChart at 11\n",
      "2023-12-14 21:29 | INFO | Finished execution: \u001b[4mfree_echarts\u001b[0m, elapsed time: 10709.56 ms\n"
     ]
    }
   ],
   "source": [
    "s.run()"
   ]
  },
  {
   "cell_type": "code",
   "execution_count": null,
   "metadata": {},
   "outputs": [],
   "source": []
  }
 ],
 "metadata": {
  "kernelspec": {
   "display_name": "base",
   "language": "python",
   "name": "python3"
  },
  "language_info": {
   "codemirror_mode": {
    "name": "ipython",
    "version": 3
   },
   "file_extension": ".py",
   "mimetype": "text/x-python",
   "name": "python",
   "nbconvert_exporter": "python",
   "pygments_lexer": "ipython3",
   "version": "3.11.5"
  }
 },
 "nbformat": 4,
 "nbformat_minor": 2
}
